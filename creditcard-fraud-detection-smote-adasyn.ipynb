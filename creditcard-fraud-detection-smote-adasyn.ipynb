{
 "cells": [
  {
   "cell_type": "markdown",
   "metadata": {},
   "source": [
    "#**Credit Card Fraud Detection**"
   ]
  },
  {
   "cell_type": "markdown",
   "metadata": {},
   "source": [
    "The dataset consists of credit cards transactions in September 2013 by European cardholders. It presents transactions that occurred in two days, where we have 492 frauds out of 284,807 transactions. The dataset is highly imbalanced, the positive class (frauds) account for 0.172% of all transactions.\n",
    "It consists of 28 Principle Components Analysis transformed features from V1 to V28.\n",
    "Due to confidentiality issue, no additional data of original features is provided; hence pre-analysis of features cannot be done.\n",
    "\n",
    "In this kernel I have attempted to get the model which gives best performance while handling imbalanced data.\n",
    "Modeling algorithms for balancing data used in the kernel (click on below links to go to respective sections)-\n",
    " - Modeling using Imbalanced data\n",
    " - SMOTE\n",
    " - ADASYN"
   ]
  },
  {
   "cell_type": "markdown",
   "metadata": {},
   "source": [
    "<font color=blue size = 4.8>Import necessary libraries</font>"
   ]
  },
  {
   "cell_type": "code",
   "execution_count": 1,
   "metadata": {},
   "outputs": [],
   "source": [
    "#Importing Data manipulation and plotting modules\n",
    "import numpy as np\n",
    "import pandas as pd\n",
    "import matplotlib.pyplot as plt\n",
    "import seaborn as sns\n",
    "import os\n",
    "import time"
   ]
  },
  {
   "cell_type": "code",
   "execution_count": 2,
   "metadata": {},
   "outputs": [],
   "source": [
    "#Importing libraries for performance measures\n",
    "from sklearn.metrics import confusion_matrix\n",
    "from sklearn.metrics import precision_recall_fscore_support\n",
    "from sklearn.metrics import accuracy_score\n",
    "from sklearn.metrics import auc, roc_curve"
   ]
  },
  {
   "cell_type": "code",
   "execution_count": 3,
   "metadata": {},
   "outputs": [],
   "source": [
    "#Importing libraries For data splitting\n",
    "from sklearn.model_selection import train_test_split\n",
    "from xgboost.sklearn import XGBClassifier\n",
    "from sklearn.ensemble import RandomForestClassifier"
   ]
  },
  {
   "cell_type": "code",
   "execution_count": 4,
   "metadata": {},
   "outputs": [
    {
     "name": "stderr",
     "output_type": "stream",
     "text": [
      "/opt/conda/lib/python3.6/site-packages/sklearn/externals/six.py:31: DeprecationWarning: The module is deprecated in version 0.21 and will be removed in version 0.23 since we've dropped support for Python 2.7. Please rely on the official version of six (https://pypi.org/project/six/).\n",
      "  \"(https://pypi.org/project/six/).\", DeprecationWarning)\n"
     ]
    }
   ],
   "source": [
    "#Import libraries for data balancing\n",
    "from imblearn.over_sampling import SMOTE, ADASYN"
   ]
  },
  {
   "cell_type": "markdown",
   "metadata": {},
   "source": [
    "<font color=blue size = 4.8>Loading Dataset</font>"
   ]
  },
  {
   "cell_type": "code",
   "execution_count": 5,
   "metadata": {},
   "outputs": [],
   "source": [
    "data = pd.read_csv(\"../input/creditcard.csv\")"
   ]
  },
  {
   "cell_type": "code",
   "execution_count": 6,
   "metadata": {},
   "outputs": [],
   "source": [
    "pd.options.display.max_columns = 200"
   ]
  },
  {
   "cell_type": "code",
   "execution_count": 7,
   "metadata": {},
   "outputs": [
    {
     "data": {
      "text/html": [
       "<div>\n",
       "<style scoped>\n",
       "    .dataframe tbody tr th:only-of-type {\n",
       "        vertical-align: middle;\n",
       "    }\n",
       "\n",
       "    .dataframe tbody tr th {\n",
       "        vertical-align: top;\n",
       "    }\n",
       "\n",
       "    .dataframe thead th {\n",
       "        text-align: right;\n",
       "    }\n",
       "</style>\n",
       "<table border=\"1\" class=\"dataframe\">\n",
       "  <thead>\n",
       "    <tr style=\"text-align: right;\">\n",
       "      <th></th>\n",
       "      <th>Time</th>\n",
       "      <th>V1</th>\n",
       "      <th>V2</th>\n",
       "      <th>V3</th>\n",
       "      <th>V4</th>\n",
       "      <th>V5</th>\n",
       "      <th>V6</th>\n",
       "      <th>V7</th>\n",
       "      <th>V8</th>\n",
       "      <th>V9</th>\n",
       "      <th>V10</th>\n",
       "      <th>V11</th>\n",
       "      <th>V12</th>\n",
       "      <th>V13</th>\n",
       "      <th>V14</th>\n",
       "      <th>V15</th>\n",
       "      <th>V16</th>\n",
       "      <th>V17</th>\n",
       "      <th>V18</th>\n",
       "      <th>V19</th>\n",
       "      <th>V20</th>\n",
       "      <th>V21</th>\n",
       "      <th>V22</th>\n",
       "      <th>V23</th>\n",
       "      <th>V24</th>\n",
       "      <th>V25</th>\n",
       "      <th>V26</th>\n",
       "      <th>V27</th>\n",
       "      <th>V28</th>\n",
       "      <th>Amount</th>\n",
       "      <th>Class</th>\n",
       "    </tr>\n",
       "  </thead>\n",
       "  <tbody>\n",
       "    <tr>\n",
       "      <th>0</th>\n",
       "      <td>0.0</td>\n",
       "      <td>-1.359807</td>\n",
       "      <td>-0.072781</td>\n",
       "      <td>2.536347</td>\n",
       "      <td>1.378155</td>\n",
       "      <td>-0.338321</td>\n",
       "      <td>0.462388</td>\n",
       "      <td>0.239599</td>\n",
       "      <td>0.098698</td>\n",
       "      <td>0.363787</td>\n",
       "      <td>0.090794</td>\n",
       "      <td>-0.551600</td>\n",
       "      <td>-0.617801</td>\n",
       "      <td>-0.991390</td>\n",
       "      <td>-0.311169</td>\n",
       "      <td>1.468177</td>\n",
       "      <td>-0.470401</td>\n",
       "      <td>0.207971</td>\n",
       "      <td>0.025791</td>\n",
       "      <td>0.403993</td>\n",
       "      <td>0.251412</td>\n",
       "      <td>-0.018307</td>\n",
       "      <td>0.277838</td>\n",
       "      <td>-0.110474</td>\n",
       "      <td>0.066928</td>\n",
       "      <td>0.128539</td>\n",
       "      <td>-0.189115</td>\n",
       "      <td>0.133558</td>\n",
       "      <td>-0.021053</td>\n",
       "      <td>149.62</td>\n",
       "      <td>0</td>\n",
       "    </tr>\n",
       "    <tr>\n",
       "      <th>1</th>\n",
       "      <td>0.0</td>\n",
       "      <td>1.191857</td>\n",
       "      <td>0.266151</td>\n",
       "      <td>0.166480</td>\n",
       "      <td>0.448154</td>\n",
       "      <td>0.060018</td>\n",
       "      <td>-0.082361</td>\n",
       "      <td>-0.078803</td>\n",
       "      <td>0.085102</td>\n",
       "      <td>-0.255425</td>\n",
       "      <td>-0.166974</td>\n",
       "      <td>1.612727</td>\n",
       "      <td>1.065235</td>\n",
       "      <td>0.489095</td>\n",
       "      <td>-0.143772</td>\n",
       "      <td>0.635558</td>\n",
       "      <td>0.463917</td>\n",
       "      <td>-0.114805</td>\n",
       "      <td>-0.183361</td>\n",
       "      <td>-0.145783</td>\n",
       "      <td>-0.069083</td>\n",
       "      <td>-0.225775</td>\n",
       "      <td>-0.638672</td>\n",
       "      <td>0.101288</td>\n",
       "      <td>-0.339846</td>\n",
       "      <td>0.167170</td>\n",
       "      <td>0.125895</td>\n",
       "      <td>-0.008983</td>\n",
       "      <td>0.014724</td>\n",
       "      <td>2.69</td>\n",
       "      <td>0</td>\n",
       "    </tr>\n",
       "    <tr>\n",
       "      <th>2</th>\n",
       "      <td>1.0</td>\n",
       "      <td>-1.358354</td>\n",
       "      <td>-1.340163</td>\n",
       "      <td>1.773209</td>\n",
       "      <td>0.379780</td>\n",
       "      <td>-0.503198</td>\n",
       "      <td>1.800499</td>\n",
       "      <td>0.791461</td>\n",
       "      <td>0.247676</td>\n",
       "      <td>-1.514654</td>\n",
       "      <td>0.207643</td>\n",
       "      <td>0.624501</td>\n",
       "      <td>0.066084</td>\n",
       "      <td>0.717293</td>\n",
       "      <td>-0.165946</td>\n",
       "      <td>2.345865</td>\n",
       "      <td>-2.890083</td>\n",
       "      <td>1.109969</td>\n",
       "      <td>-0.121359</td>\n",
       "      <td>-2.261857</td>\n",
       "      <td>0.524980</td>\n",
       "      <td>0.247998</td>\n",
       "      <td>0.771679</td>\n",
       "      <td>0.909412</td>\n",
       "      <td>-0.689281</td>\n",
       "      <td>-0.327642</td>\n",
       "      <td>-0.139097</td>\n",
       "      <td>-0.055353</td>\n",
       "      <td>-0.059752</td>\n",
       "      <td>378.66</td>\n",
       "      <td>0</td>\n",
       "    </tr>\n",
       "    <tr>\n",
       "      <th>3</th>\n",
       "      <td>1.0</td>\n",
       "      <td>-0.966272</td>\n",
       "      <td>-0.185226</td>\n",
       "      <td>1.792993</td>\n",
       "      <td>-0.863291</td>\n",
       "      <td>-0.010309</td>\n",
       "      <td>1.247203</td>\n",
       "      <td>0.237609</td>\n",
       "      <td>0.377436</td>\n",
       "      <td>-1.387024</td>\n",
       "      <td>-0.054952</td>\n",
       "      <td>-0.226487</td>\n",
       "      <td>0.178228</td>\n",
       "      <td>0.507757</td>\n",
       "      <td>-0.287924</td>\n",
       "      <td>-0.631418</td>\n",
       "      <td>-1.059647</td>\n",
       "      <td>-0.684093</td>\n",
       "      <td>1.965775</td>\n",
       "      <td>-1.232622</td>\n",
       "      <td>-0.208038</td>\n",
       "      <td>-0.108300</td>\n",
       "      <td>0.005274</td>\n",
       "      <td>-0.190321</td>\n",
       "      <td>-1.175575</td>\n",
       "      <td>0.647376</td>\n",
       "      <td>-0.221929</td>\n",
       "      <td>0.062723</td>\n",
       "      <td>0.061458</td>\n",
       "      <td>123.50</td>\n",
       "      <td>0</td>\n",
       "    </tr>\n",
       "    <tr>\n",
       "      <th>4</th>\n",
       "      <td>2.0</td>\n",
       "      <td>-1.158233</td>\n",
       "      <td>0.877737</td>\n",
       "      <td>1.548718</td>\n",
       "      <td>0.403034</td>\n",
       "      <td>-0.407193</td>\n",
       "      <td>0.095921</td>\n",
       "      <td>0.592941</td>\n",
       "      <td>-0.270533</td>\n",
       "      <td>0.817739</td>\n",
       "      <td>0.753074</td>\n",
       "      <td>-0.822843</td>\n",
       "      <td>0.538196</td>\n",
       "      <td>1.345852</td>\n",
       "      <td>-1.119670</td>\n",
       "      <td>0.175121</td>\n",
       "      <td>-0.451449</td>\n",
       "      <td>-0.237033</td>\n",
       "      <td>-0.038195</td>\n",
       "      <td>0.803487</td>\n",
       "      <td>0.408542</td>\n",
       "      <td>-0.009431</td>\n",
       "      <td>0.798278</td>\n",
       "      <td>-0.137458</td>\n",
       "      <td>0.141267</td>\n",
       "      <td>-0.206010</td>\n",
       "      <td>0.502292</td>\n",
       "      <td>0.219422</td>\n",
       "      <td>0.215153</td>\n",
       "      <td>69.99</td>\n",
       "      <td>0</td>\n",
       "    </tr>\n",
       "  </tbody>\n",
       "</table>\n",
       "</div>"
      ],
      "text/plain": [
       "   Time        V1        V2        V3        V4        V5        V6        V7  \\\n",
       "0   0.0 -1.359807 -0.072781  2.536347  1.378155 -0.338321  0.462388  0.239599   \n",
       "1   0.0  1.191857  0.266151  0.166480  0.448154  0.060018 -0.082361 -0.078803   \n",
       "2   1.0 -1.358354 -1.340163  1.773209  0.379780 -0.503198  1.800499  0.791461   \n",
       "3   1.0 -0.966272 -0.185226  1.792993 -0.863291 -0.010309  1.247203  0.237609   \n",
       "4   2.0 -1.158233  0.877737  1.548718  0.403034 -0.407193  0.095921  0.592941   \n",
       "\n",
       "         V8        V9       V10       V11       V12       V13       V14  \\\n",
       "0  0.098698  0.363787  0.090794 -0.551600 -0.617801 -0.991390 -0.311169   \n",
       "1  0.085102 -0.255425 -0.166974  1.612727  1.065235  0.489095 -0.143772   \n",
       "2  0.247676 -1.514654  0.207643  0.624501  0.066084  0.717293 -0.165946   \n",
       "3  0.377436 -1.387024 -0.054952 -0.226487  0.178228  0.507757 -0.287924   \n",
       "4 -0.270533  0.817739  0.753074 -0.822843  0.538196  1.345852 -1.119670   \n",
       "\n",
       "        V15       V16       V17       V18       V19       V20       V21  \\\n",
       "0  1.468177 -0.470401  0.207971  0.025791  0.403993  0.251412 -0.018307   \n",
       "1  0.635558  0.463917 -0.114805 -0.183361 -0.145783 -0.069083 -0.225775   \n",
       "2  2.345865 -2.890083  1.109969 -0.121359 -2.261857  0.524980  0.247998   \n",
       "3 -0.631418 -1.059647 -0.684093  1.965775 -1.232622 -0.208038 -0.108300   \n",
       "4  0.175121 -0.451449 -0.237033 -0.038195  0.803487  0.408542 -0.009431   \n",
       "\n",
       "        V22       V23       V24       V25       V26       V27       V28  \\\n",
       "0  0.277838 -0.110474  0.066928  0.128539 -0.189115  0.133558 -0.021053   \n",
       "1 -0.638672  0.101288 -0.339846  0.167170  0.125895 -0.008983  0.014724   \n",
       "2  0.771679  0.909412 -0.689281 -0.327642 -0.139097 -0.055353 -0.059752   \n",
       "3  0.005274 -0.190321 -1.175575  0.647376 -0.221929  0.062723  0.061458   \n",
       "4  0.798278 -0.137458  0.141267 -0.206010  0.502292  0.219422  0.215153   \n",
       "\n",
       "   Amount  Class  \n",
       "0  149.62      0  \n",
       "1    2.69      0  \n",
       "2  378.66      0  \n",
       "3  123.50      0  \n",
       "4   69.99      0  "
      ]
     },
     "execution_count": 7,
     "metadata": {},
     "output_type": "execute_result"
    }
   ],
   "source": [
    "data.head()"
   ]
  },
  {
   "cell_type": "code",
   "execution_count": 8,
   "metadata": {},
   "outputs": [
    {
     "data": {
      "text/plain": [
       "(284807, 31)"
      ]
     },
     "execution_count": 8,
     "metadata": {},
     "output_type": "execute_result"
    }
   ],
   "source": [
    "data.shape"
   ]
  },
  {
   "cell_type": "code",
   "execution_count": 9,
   "metadata": {
    "scrolled": true
   },
   "outputs": [
    {
     "data": {
      "text/plain": [
       "<matplotlib.axes._subplots.AxesSubplot at 0x7fa799155780>"
      ]
     },
     "execution_count": 9,
     "metadata": {},
     "output_type": "execute_result"
    },
    {
     "data": {
      "image/png": "[encoded data removed]",
      "text/plain": [
       "<Figure size 432x288 with 1 Axes>"
      ]
     },
     "metadata": {
      "needs_background": "light"
     },
     "output_type": "display_data"
    }
   ],
   "source": [
    "sns.countplot(data['Class'])"
   ]
  },
  {
   "cell_type": "markdown",
   "metadata": {},
   "source": [
    "<font color=green>As we can see the data is highly imbalanced. Out of 2 lakh cases only 492 are fraud cases.</font>"
   ]
  },
  {
   "cell_type": "code",
   "execution_count": 10,
   "metadata": {},
   "outputs": [
    {
     "data": {
      "image/png": "[encoded data removed]",
      "text/plain": [
       "<Figure size 1008x360 with 2 Axes>"
      ]
     },
     "metadata": {
      "needs_background": "light"
     },
     "output_type": "display_data"
    }
   ],
   "source": [
    "f, axes = plt.subplots(1, 2, figsize=(14, 5))\n",
    "sns.distplot(data['Amount'].values,ax=axes[0])\n",
    "axes[0].set_title(\"Distribution of Transaction Amount\")\n",
    "sns.distplot(data['Time'].values,ax=axes[1])\n",
    "axes[1].set_title(\"Distribution of Transaction Time (in seconds)\")\n",
    "plt.show()"
   ]
  },
  {
   "cell_type": "code",
   "execution_count": 11,
   "metadata": {},
   "outputs": [],
   "source": [
    "data.drop(['Time'], inplace = True, axis =1)"
   ]
  },
  {
   "cell_type": "code",
   "execution_count": 12,
   "metadata": {},
   "outputs": [
    {
     "data": {
      "text/plain": [
       "0.001727485630620034"
      ]
     },
     "execution_count": 12,
     "metadata": {},
     "output_type": "execute_result"
    }
   ],
   "source": [
    "\n",
    "data['Class'].value_counts()[1]/data.shape[0]"
   ]
  },
  {
   "cell_type": "code",
   "execution_count": 13,
   "metadata": {},
   "outputs": [
    {
     "data": {
      "text/plain": [
       "(284807, 29)"
      ]
     },
     "execution_count": 13,
     "metadata": {},
     "output_type": "execute_result"
    }
   ],
   "source": [
    "y = data.iloc[:,29]\n",
    "X = data.iloc[:,0:29]\n",
    "X.shape"
   ]
  },
  {
   "cell_type": "code",
   "execution_count": 14,
   "metadata": {},
   "outputs": [
    {
     "data": {
      "text/plain": [
       "(284807,)"
      ]
     },
     "execution_count": 14,
     "metadata": {},
     "output_type": "execute_result"
    }
   ],
   "source": [
    "y.shape"
   ]
  },
  {
   "cell_type": "code",
   "execution_count": 15,
   "metadata": {},
   "outputs": [],
   "source": [
    "X_train, X_test, y_train, y_test =   train_test_split(X,\n",
    "                                                      y,\n",
    "                                                      test_size = 0.3,\n",
    "                                                      stratify = y\n",
    "                                                      )"
   ]
  },
  {
   "cell_type": "code",
   "execution_count": 16,
   "metadata": {},
   "outputs": [
    {
     "data": {
      "text/plain": [
       "(199364, 29)"
      ]
     },
     "execution_count": 16,
     "metadata": {},
     "output_type": "execute_result"
    }
   ],
   "source": [
    "X_train.shape"
   ]
  },
  {
   "cell_type": "code",
   "execution_count": 17,
   "metadata": {},
   "outputs": [
    {
     "data": {
      "text/plain": [
       "(199364,)"
      ]
     },
     "execution_count": 17,
     "metadata": {},
     "output_type": "execute_result"
    }
   ],
   "source": [
    "y_train.shape"
   ]
  },
  {
   "cell_type": "markdown",
   "metadata": {},
   "source": [
    "<font color=blue size = 4.8>Modeling on imbalanced data</font>"
   ]
  },
  {
   "cell_type": "markdown",
   "metadata": {},
   "source": [
    "Significance of confusion matrixx that can be seen for this dataset -\n",
    " - True Positive: Number of fraud cases the model predicted as 'fraud'.\n",
    " - False Positive: Number of non-fraud cases that the model predicted as 'fraud'.\n",
    " - True Negative: Number of non-fraud cases that the model predicted as 'non-fraud'.\n",
    " - False Negative: Number of fraud cases that the model predicted as 'non-fraud'.\n",
    " - Precision: Precision is the ratio of correctly predicted fraud cases to total predicted fraud cases.\n",
    "\n",
    "Hence we can focus on the model that gives least False Negative values."
   ]
  },
  {
   "cell_type": "markdown",
   "metadata": {},
   "source": [
    "'scale_pos_weight' is used for imbalanced dataset wherein it balancese the Negative and Positive weights. With the default value of '1', it implies that the positive class has a weight equal to the negative class. \n",
    "'max_delta_step' specifies maximum delta step to be allowed for each leaf output. It helps in logistic regression when data is highly imbalanced.\n",
    "Here is defined a range of scale_pos_weight & max_delta_step. The best combination of these parameters which will give a better accuracy, precision, recall and F score. At the same time keeping FN as minimum as possible."
   ]
  },
  {
   "cell_type": "markdown",
   "metadata": {},
   "source": [
    "<font color=orange size = 3>Modeling using weights</font>"
   ]
  },
  {
   "cell_type": "code",
   "execution_count": 18,
   "metadata": {},
   "outputs": [
    {
     "name": "stdout",
     "output_type": "stream",
     "text": [
      "--------------------\n",
      "Iteration  1\n",
      "--------------------\n",
      "scale_pos_weight = 1 \n",
      "max_delta_step = 1 \n",
      "Accuracy 0.9994499256814484\n",
      "Confusion Matrix: \n",
      " [[85288     7]\n",
      " [   40   108]]\n",
      "Precision:  [0.99953122 0.93913043]\n",
      "Recall:  [0.99991793 0.72972973]\n",
      "F score:  [0.99972454 0.82129278]\n",
      "--------------------\n",
      "Iteration  2\n",
      "--------------------\n",
      "scale_pos_weight = 2 \n",
      "max_delta_step = 2 \n",
      "Accuracy 0.9994850368081645\n",
      "Confusion Matrix: \n",
      " [[85286     9]\n",
      " [   35   113]]\n",
      "Precision:  [0.99958978 0.92622951]\n",
      "Recall:  [0.99989448 0.76351351]\n",
      "F score:  [0.99974211 0.83703704]\n",
      "--------------------\n",
      "Iteration  3\n",
      "--------------------\n",
      "scale_pos_weight = 3 \n",
      "max_delta_step = 3 \n",
      "Accuracy 0.9995084442259752\n",
      "Confusion Matrix: \n",
      " [[85285    10]\n",
      " [   32   116]]\n",
      "Precision:  [0.99962493 0.92063492]\n",
      "Recall:  [0.99988276 0.78378378]\n",
      "F score:  [0.99975383 0.84671533]\n",
      "--------------------\n",
      "Iteration  4\n",
      "--------------------\n",
      "scale_pos_weight = 4 \n",
      "max_delta_step = 4 \n",
      "Accuracy 0.9994382219725431\n",
      "Confusion Matrix: \n",
      " [[85280    15]\n",
      " [   33   115]]\n",
      "Precision:  [0.99961319 0.88461538]\n",
      "Recall:  [0.99982414 0.77702703]\n",
      "F score:  [0.99971865 0.82733813]\n",
      "--------------------\n",
      "Iteration  5\n",
      "--------------------\n",
      "scale_pos_weight = 5 \n",
      "max_delta_step = 5 \n",
      "Accuracy 0.9994265182636377\n",
      "Confusion Matrix: \n",
      " [[85276    19]\n",
      " [   30   118]]\n",
      "Precision:  [0.99964832 0.86131387]\n",
      "Recall:  [0.99977724 0.7972973 ]\n",
      "F score:  [0.99971278 0.82807018]\n",
      "--------------------\n",
      "Iteration  6\n",
      "--------------------\n",
      "scale_pos_weight = 6 \n",
      "max_delta_step = 6 \n",
      "Accuracy 0.9994265182636377\n",
      "Confusion Matrix: \n",
      " [[85275    20]\n",
      " [   29   119]]\n",
      "Precision:  [0.99966004 0.85611511]\n",
      "Recall:  [0.99976552 0.80405405]\n",
      "F score:  [0.99971278 0.82926829]\n",
      "--------------------\n",
      "Iteration  7\n",
      "--------------------\n",
      "scale_pos_weight = 7 \n",
      "max_delta_step = 7 \n",
      "Accuracy 0.9994382219725431\n",
      "Confusion Matrix: \n",
      " [[85275    20]\n",
      " [   28   120]]\n",
      "Precision:  [0.99967176 0.85714286]\n",
      "Recall:  [0.99976552 0.81081081]\n",
      "F score:  [0.99971864 0.83333333]\n",
      "--------------------\n",
      "Iteration  8\n",
      "--------------------\n",
      "scale_pos_weight = 8 \n",
      "max_delta_step = 8 \n",
      "Accuracy 0.9994148145547324\n",
      "Confusion Matrix: \n",
      " [[85273    22]\n",
      " [   28   120]]\n",
      "Precision:  [0.99967175 0.84507042]\n",
      "Recall:  [0.99974207 0.81081081]\n",
      "F score:  [0.99970691 0.82758621]\n",
      "--------------------\n",
      "Iteration  9\n",
      "--------------------\n",
      "scale_pos_weight = 9 \n",
      "max_delta_step = 9 \n",
      "Accuracy 0.9994265182636377\n",
      "Confusion Matrix: \n",
      " [[85273    22]\n",
      " [   27   121]]\n",
      "Precision:  [0.99968347 0.84615385]\n",
      "Recall:  [0.99974207 0.81756757]\n",
      "F score:  [0.99971277 0.83161512]\n",
      "--------------------\n",
      "Iteration  10\n",
      "--------------------\n",
      "scale_pos_weight = 10 \n",
      "max_delta_step = 10 \n",
      "Accuracy 0.9994265182636377\n",
      "Confusion Matrix: \n",
      " [[85272    23]\n",
      " [   26   122]]\n",
      "Precision:  [0.99969519 0.84137931]\n",
      "Recall:  [0.99973035 0.82432432]\n",
      "F score:  [0.99971277 0.83276451]\n"
     ]
    }
   ],
   "source": [
    "max_delta_step= [1,2,3,4,5,6,7,8,9,10]\n",
    "scale_pos_weight= [1,2,3,4,5,6,7,8,9,10]\n",
    "num_zeros = (data['Class'] == 0).sum()\n",
    "num_ones = (data['Class'] == 1).sum()\n",
    "sp_weight = num_zeros / num_ones\n",
    "for i in max_delta_step:\n",
    "    print('--------------------')\n",
    "    print('Iteration ', i)\n",
    "    print('--------------------')\n",
    "    print('scale_pos_weight = {} '.format(i))\n",
    "    print('max_delta_step = {} '.format(i))\n",
    "    xgb = XGBClassifier(scale_pos_weight = i,max_delta_step=i)\n",
    "    xgb.fit(X_train,y_train)\n",
    "    xgb_predict = xgb.predict(X_test)\n",
    "    xgb_proba = xgb.predict_proba(X_test)\n",
    "    xgb_cm = confusion_matrix(y_test, xgb_predict)\n",
    "    p_xg,r_xg,f_xg,_ = precision_recall_fscore_support(y_test,xgb_predict)\n",
    "    print('Accuracy',accuracy_score(y_test, xgb_predict))\n",
    "    print('Confusion Matrix: \\n', xgb_cm)\n",
    "    print('Precision: ',p_xg)\n",
    "    print('Recall: ',r_xg)\n",
    "    print('F score: ',f_xg)"
   ]
  },
  {
   "cell_type": "markdown",
   "metadata": {},
   "source": [
    "<font color=green>We can observe that the combination of scale_pos_weight=10 and max_delta_step=10 gives us the best values for Precision, Recall and Fscore. Also the False negatives is also minimum : 29 </font>"
   ]
  },
  {
   "cell_type": "markdown",
   "metadata": {},
   "source": [
    "<font color=orange size =3>Modeling using balanced weights in Random Forest</font>"
   ]
  },
  {
   "cell_type": "code",
   "execution_count": 19,
   "metadata": {},
   "outputs": [],
   "source": [
    "rf = RandomForestClassifier(n_estimators=100,random_state=0, n_jobs=-1, class_weight=\"balanced\")"
   ]
  },
  {
   "cell_type": "code",
   "execution_count": 20,
   "metadata": {},
   "outputs": [],
   "source": [
    "rf1 = rf.fit(X_train,y_train)\n",
    "y_pred_rf = rf1.predict(X_test)\n",
    "y_pred_rf_prob = rf1.predict_proba(X_test)"
   ]
  },
  {
   "cell_type": "code",
   "execution_count": 21,
   "metadata": {},
   "outputs": [
    {
     "data": {
      "text/plain": [
       "0.9994850368081645"
      ]
     },
     "execution_count": 21,
     "metadata": {},
     "output_type": "execute_result"
    }
   ],
   "source": [
    "accuracy_score(y_test,y_pred_rf)"
   ]
  },
  {
   "cell_type": "code",
   "execution_count": 22,
   "metadata": {},
   "outputs": [
    {
     "data": {
      "text/plain": [
       "array([[85290,     5],\n",
       "       [   39,   109]])"
      ]
     },
     "execution_count": 22,
     "metadata": {},
     "output_type": "execute_result"
    }
   ],
   "source": [
    "confusion_matrix(y_test,y_pred_rf)"
   ]
  },
  {
   "cell_type": "code",
   "execution_count": 23,
   "metadata": {},
   "outputs": [],
   "source": [
    "p_rf,r_rf,f_rf,_  = precision_recall_fscore_support(y_test,y_pred_rf)"
   ]
  },
  {
   "cell_type": "code",
   "execution_count": 24,
   "metadata": {},
   "outputs": [
    {
     "name": "stdout",
     "output_type": "stream",
     "text": [
      "Precision: [0.99954295 0.95614035] \n",
      "Recall [0.99994138 0.73648649] \n",
      "Fscore [0.99974212 0.83206107] [85295   148]\n"
     ]
    }
   ],
   "source": [
    "print('Precision:',p_rf , '\\nRecall',r_rf,'\\nFscore',f_rf,_ )"
   ]
  },
  {
   "cell_type": "markdown",
   "metadata": {},
   "source": [
    "<font color=blue size = 4.8>Synthetic Minority Over sampling Technique (SMOTE)</font>"
   ]
  },
  {
   "cell_type": "code",
   "execution_count": 25,
   "metadata": {},
   "outputs": [],
   "source": [
    "sm = SMOTE(random_state=42)"
   ]
  },
  {
   "cell_type": "code",
   "execution_count": 26,
   "metadata": {},
   "outputs": [],
   "source": [
    "X_smote, y_smote = sm.fit_sample(X_train, y_train)"
   ]
  },
  {
   "cell_type": "code",
   "execution_count": 27,
   "metadata": {},
   "outputs": [
    {
     "data": {
      "text/plain": [
       "(398040, 29)"
      ]
     },
     "execution_count": 27,
     "metadata": {},
     "output_type": "execute_result"
    }
   ],
   "source": [
    "X_smote.shape"
   ]
  },
  {
   "cell_type": "code",
   "execution_count": 28,
   "metadata": {},
   "outputs": [
    {
     "data": {
      "text/plain": [
       "(398040,)"
      ]
     },
     "execution_count": 28,
     "metadata": {},
     "output_type": "execute_result"
    }
   ],
   "source": [
    "y_smote.shape"
   ]
  },
  {
   "cell_type": "code",
   "execution_count": 29,
   "metadata": {},
   "outputs": [
    {
     "data": {
      "text/plain": [
       "0.5"
      ]
     },
     "execution_count": 29,
     "metadata": {},
     "output_type": "execute_result"
    }
   ],
   "source": [
    "np.sum(y_smote)/len(y_smote)\n",
    "\n",
    "#We can see now the data is balanced"
   ]
  },
  {
   "cell_type": "code",
   "execution_count": 30,
   "metadata": {},
   "outputs": [
    {
     "data": {
      "text/plain": [
       "(398040, 1)"
      ]
     },
     "execution_count": 30,
     "metadata": {},
     "output_type": "execute_result"
    }
   ],
   "source": [
    "y_smote = y_smote.reshape(y_smote.size, 1)\n",
    "y_smote.shape "
   ]
  },
  {
   "cell_type": "code",
   "execution_count": 31,
   "metadata": {},
   "outputs": [
    {
     "name": "stderr",
     "output_type": "stream",
     "text": [
      "/opt/conda/lib/python3.6/site-packages/sklearn/preprocessing/label.py:219: DataConversionWarning: A column-vector y was passed when a 1d array was expected. Please change the shape of y to (n_samples, ), for example using ravel().\n",
      "  y = column_or_1d(y, warn=True)\n",
      "/opt/conda/lib/python3.6/site-packages/sklearn/preprocessing/label.py:252: DataConversionWarning: A column-vector y was passed when a 1d array was expected. Please change the shape of y to (n_samples, ), for example using ravel().\n",
      "  y = column_or_1d(y, warn=True)\n",
      "/opt/conda/lib/python3.6/site-packages/ipykernel_launcher.py:11: DataConversionWarning: A column-vector y was passed when a 1d array was expected. Please change the shape of y to (n_samples,), for example using ravel().\n",
      "  # This is added back by InteractiveShellApp.init_path()\n"
     ]
    },
    {
     "name": "stdout",
     "output_type": "stream",
     "text": [
      "Random Forest:\n",
      "\n",
      "Accuracy -  0.9995552590615966\n",
      "\n",
      "Precision -  [0.99968351 0.91666667] \n",
      "Recall -  [0.99987104 0.81756757] \n",
      "Fscore -  [0.99977726 0.86428571] [85295   148]\n",
      "Confusion Matrix -\n",
      " [[85284    11]\n",
      " [   27   121]]\n",
      "XGBoost:\n",
      "\n",
      "Accuracy -  0.9929309598211673\n",
      "\n",
      "Precision -  [0.99981115 0.18333333] \n",
      "Recall -  [0.99310628 0.89189189] \n",
      "Fscore -  [0.99644743 0.30414747] [85295   148]\n",
      "Confusion Matrix - \n",
      " [[84707   588]\n",
      " [   16   132]]\n"
     ]
    }
   ],
   "source": [
    "xg_smote = XGBClassifier(learning_rate=0.1,\n",
    "                   reg_alpha= 0,\n",
    "                   reg_lambda= 1,\n",
    "                   )\n",
    "rf_smote = RandomForestClassifier(n_estimators=100,n_jobs=-1)\n",
    "\n",
    "columns = X_train.columns\n",
    "X_smote = pd.DataFrame(data = X_smote, columns = columns)\n",
    "\n",
    "xg_fit = xg_smote.fit(X_smote,y_smote)\n",
    "rf_fit = rf_smote.fit(X_smote,y_smote)\n",
    "\n",
    "y_pred_xgb = xg_fit.predict(X_test)\n",
    "y_pred_rfb = rf_fit.predict(X_test)\n",
    "\n",
    "y_pred_xgb_prob = xg_fit.predict_proba(X_test)\n",
    "y_pred_rfb_prob = rf_fit.predict_proba(X_test)\n",
    "\n",
    "p_rfb,r_rfb,f_rfb,_  = precision_recall_fscore_support(y_test,y_pred_rfb)\n",
    "p_xgb,r_xgb,f_xgb,_  = precision_recall_fscore_support(y_test,y_pred_xgb)\n",
    "\n",
    "\n",
    "print('Random Forest:\\n')\n",
    "print('Accuracy - ',accuracy_score(y_test,y_pred_rfb))\n",
    "print('\\nPrecision - ',p_rfb , '\\nRecall - ',r_rfb,'\\nFscore - ',f_rfb,_ )\n",
    "print('Confusion Matrix -\\n',confusion_matrix(y_test,y_pred_rfb))\n",
    "\n",
    "print('XGBoost:\\n')\n",
    "print('Accuracy - ',accuracy_score(y_test,y_pred_xgb))\n",
    "print('\\nPrecision - ',p_xgb , '\\nRecall - ',r_xgb,'\\nFscore - ',f_xgb,_ )\n",
    "print('Confusion Matrix - \\n',confusion_matrix(y_test,y_pred_xgb))\n",
    "\n"
   ]
  },
  {
   "cell_type": "markdown",
   "metadata": {},
   "source": [
    "<font color=green>It is observed that Random Forest gives better results as compared to XGBoost</font>"
   ]
  },
  {
   "cell_type": "markdown",
   "metadata": {},
   "source": [
    "<font color=blue size = 4.8>ADAptive SYNthetic (ADASYN)</font>"
   ]
  },
  {
   "cell_type": "code",
   "execution_count": 32,
   "metadata": {},
   "outputs": [],
   "source": [
    "adasyn = ADASYN(random_state=42)\n",
    "X_ada, y_ada = adasyn.fit_sample(X_train, y_train)"
   ]
  },
  {
   "cell_type": "code",
   "execution_count": 33,
   "metadata": {},
   "outputs": [
    {
     "data": {
      "text/plain": [
       "(398063, 29)"
      ]
     },
     "execution_count": 33,
     "metadata": {},
     "output_type": "execute_result"
    }
   ],
   "source": [
    "X_ada.shape"
   ]
  },
  {
   "cell_type": "code",
   "execution_count": 34,
   "metadata": {},
   "outputs": [
    {
     "data": {
      "text/plain": [
       "(398063,)"
      ]
     },
     "execution_count": 34,
     "metadata": {},
     "output_type": "execute_result"
    }
   ],
   "source": [
    "y_ada.shape"
   ]
  },
  {
   "cell_type": "code",
   "execution_count": 35,
   "metadata": {},
   "outputs": [
    {
     "name": "stderr",
     "output_type": "stream",
     "text": [
      "/opt/conda/lib/python3.6/site-packages/sklearn/preprocessing/label.py:219: DataConversionWarning: A column-vector y was passed when a 1d array was expected. Please change the shape of y to (n_samples, ), for example using ravel().\n",
      "  y = column_or_1d(y, warn=True)\n",
      "/opt/conda/lib/python3.6/site-packages/sklearn/preprocessing/label.py:252: DataConversionWarning: A column-vector y was passed when a 1d array was expected. Please change the shape of y to (n_samples, ), for example using ravel().\n",
      "  y = column_or_1d(y, warn=True)\n",
      "/opt/conda/lib/python3.6/site-packages/ipykernel_launcher.py:20: DataConversionWarning: A column-vector y was passed when a 1d array was expected. Please change the shape of y to (n_samples,), for example using ravel().\n"
     ]
    },
    {
     "name": "stdout",
     "output_type": "stream",
     "text": [
      "Random Forest:\n",
      "\n",
      "Accuracy -  0.9995201479348805\n",
      "Precision - \n",
      " [0.99964836 0.91472868] Recall - \n",
      " [0.99987104 0.7972973 ] Fscore - \n",
      " [0.99975968 0.85198556] [85295   148]\n",
      "Confusion Matrix - \n",
      " [[85284    11]\n",
      " [   30   118]]\n",
      "XGBoost:\n",
      "\n",
      "Accuracy XGBoost 0.9985604438046417\n",
      "Precision XGBoost: [0.99976529 0.55411255] Recall [0.99879243 0.86486486] Fscore [0.99927862 0.67546174] [85295   148]\n",
      "Confusion Matrix - \n",
      " [[85192   103]\n",
      " [   20   128]]\n"
     ]
    }
   ],
   "source": [
    "np.sum(y_ada)/len(y_ada)\n",
    "\n",
    "y_ada = y_ada.reshape(y_ada.size, 1)\n",
    "y_ada.shape \n",
    "\n",
    "xg_ada = XGBClassifier(learning_rate=0.5,\n",
    "                   reg_alpha= 0.1,\n",
    "                   reg_lambda= 1,\n",
    "                   )\n",
    "\n",
    "\n",
    "rf_ada = RandomForestClassifier(n_estimators=100,n_jobs=-1)\n",
    "\n",
    "columns = X_train.columns\n",
    "X_ada = pd.DataFrame(data = X_ada, columns = columns)\n",
    "\n",
    "xg_fit = xg_ada.fit(X_ada,y_ada)\n",
    "\n",
    "\n",
    "rf_fit = rf_ada.fit(X_ada,y_ada)\n",
    "\n",
    "y_pred_xgb = xg_fit.predict(X_test)\n",
    "\n",
    "\n",
    "y_pred_rfb = rf_fit.predict(X_test)\n",
    "\n",
    "y_pred_xgb_prob = xg_fit.predict_proba(X_test)\n",
    "y_pred_rfb_prob = rf_fit.predict_proba(X_test)\n",
    "\n",
    "p_rfb,r_rfb,f_rfb,_  = precision_recall_fscore_support(y_test,y_pred_rfb)\n",
    "\n",
    "p_xgb,r_xgb,f_xgb,_  = precision_recall_fscore_support(y_test,y_pred_xgb)\n",
    "\n",
    "\n",
    "print('Random Forest:\\n')\n",
    "print('Accuracy - ',accuracy_score(y_test,y_pred_rfb))\n",
    "print('Precision - \\n',p_rfb , 'Recall - \\n',r_rfb,'Fscore - \\n',f_rfb,_ )\n",
    "print('Confusion Matrix - \\n',confusion_matrix(y_test,y_pred_rfb))\n",
    "\n",
    "print('XGBoost:\\n')\n",
    "print('Accuracy XGBoost',accuracy_score(y_test,y_pred_xgb))\n",
    "print('Precision XGBoost:',p_xgb , 'Recall',r_xgb,'Fscore',f_xgb,_ )\n",
    "print('Confusion Matrix - \\n',confusion_matrix(y_test,y_pred_xgb))\n"
   ]
  },
  {
   "cell_type": "markdown",
   "metadata": {},
   "source": [
    "<font color=green>For Adasyn as well it is observed that Random Forest gives better results as compared to XGBoost</font>"
   ]
  },
  {
   "cell_type": "code",
   "execution_count": null,
   "metadata": {},
   "outputs": [],
   "source": []
  },
  {
   "cell_type": "code",
   "execution_count": null,
   "metadata": {},
   "outputs": [],
   "source": []
  }
 ],
 "metadata": {
  "kernelspec": {
   "display_name": "Python 3",
   "language": "python",
   "name": "python3"
  },
  "language_info": {
   "codemirror_mode": {
    "name": "ipython",
    "version": 3
   },
   "file_extension": ".py",
   "mimetype": "text/x-python",
   "name": "python",
   "nbconvert_exporter": "python",
   "pygments_lexer": "ipython3",
   "version": "3.6.6"
  }
 },
 "nbformat": 4,
 "nbformat_minor": 1
}
