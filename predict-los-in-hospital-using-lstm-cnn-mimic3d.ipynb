{
 "cells": [
  {
   "cell_type": "markdown",
   "metadata": {},
   "source": [
    "#**Predict LOS using LSTM & CNN**"
   ]
  },
  {
   "cell_type": "markdown",
   "metadata": {},
   "source": [
    "This solution is designed to predict Length of Stay (LOS) of each patient, at time of admission, in hospital using LSTM & Convolution Neural Network. There can be significant variation of LOS as per various facilities, disease conditions and specialties even within the same healthcare system. Advanced LOS prediction at the time of admission can greatly enhance the quality of care as well as operational workload efficiency. Also greatly help with accurate planning for discharges resulting in lowering of various other quality measures such as readmissions."
   ]
  },
  {
   "cell_type": "markdown",
   "metadata": {},
   "source": [
    "MIMIC-III (Medical Information Mart for Intensive Care III) is a large, freely-available database comprising deidentified health-related data associated with over forty thousand patients. This dataset consists of numeric as well as categorical features. Before feeding the data to model and predict the LOS;we will process the numeric data further to extract features & convert categorical data to numbers. \n",
    "This can be achieved with a few steps as listed below -\n",
    "- Pre-process categorical features using:\n",
    "    1. One Hot Encoding\n",
    "    2. Label Encoding\n",
    "    3. Tokenizer\n",
    "- Pre-process numeric data using convolution Neural Network for extracting features.\n",
    "- Concatenate all inputs using a dictionary.\n",
    "- Pass this concatenated input to Keras Model.\n",
    "- Compile the model\n",
    "- Build the Model"
   ]
  },
  {
   "cell_type": "markdown",
   "metadata": {},
   "source": [
    "<font color=blue size = 4.8>Import necessary libraries</font>"
   ]
  },
  {
   "cell_type": "code",
   "execution_count": 1,
   "metadata": {},
   "outputs": [],
   "source": [
    "# Importing Data manipulation and plotting modules\n",
    "\n",
    "import pandas as pd\n",
    "import numpy as np\n",
    "import seaborn as sns\n",
    "import matplotlib.pyplot as plt\n",
    "import pydot\n",
    "from skimage import io"
   ]
  },
  {
   "cell_type": "code",
   "execution_count": 2,
   "metadata": {},
   "outputs": [
    {
     "name": "stderr",
     "output_type": "stream",
     "text": [
      "Using TensorFlow backend.\n",
      "/opt/conda/lib/python3.6/site-packages/tensorflow/python/framework/dtypes.py:516: FutureWarning: Passing (type, 1) or '1type' as a synonym of type is deprecated; in a future version of numpy, it will be understood as (type, (1,)) / '(1,)type'.\n",
      "  _np_qint8 = np.dtype([(\"qint8\", np.int8, 1)])\n",
      "/opt/conda/lib/python3.6/site-packages/tensorflow/python/framework/dtypes.py:517: FutureWarning: Passing (type, 1) or '1type' as a synonym of type is deprecated; in a future version of numpy, it will be understood as (type, (1,)) / '(1,)type'.\n",
      "  _np_quint8 = np.dtype([(\"quint8\", np.uint8, 1)])\n",
      "/opt/conda/lib/python3.6/site-packages/tensorflow/python/framework/dtypes.py:518: FutureWarning: Passing (type, 1) or '1type' as a synonym of type is deprecated; in a future version of numpy, it will be understood as (type, (1,)) / '(1,)type'.\n",
      "  _np_qint16 = np.dtype([(\"qint16\", np.int16, 1)])\n",
      "/opt/conda/lib/python3.6/site-packages/tensorflow/python/framework/dtypes.py:519: FutureWarning: Passing (type, 1) or '1type' as a synonym of type is deprecated; in a future version of numpy, it will be understood as (type, (1,)) / '(1,)type'.\n",
      "  _np_quint16 = np.dtype([(\"quint16\", np.uint16, 1)])\n",
      "/opt/conda/lib/python3.6/site-packages/tensorflow/python/framework/dtypes.py:520: FutureWarning: Passing (type, 1) or '1type' as a synonym of type is deprecated; in a future version of numpy, it will be understood as (type, (1,)) / '(1,)type'.\n",
      "  _np_qint32 = np.dtype([(\"qint32\", np.int32, 1)])\n",
      "/opt/conda/lib/python3.6/site-packages/tensorflow/python/framework/dtypes.py:525: FutureWarning: Passing (type, 1) or '1type' as a synonym of type is deprecated; in a future version of numpy, it will be understood as (type, (1,)) / '(1,)type'.\n",
      "  np_resource = np.dtype([(\"resource\", np.ubyte, 1)])\n",
      "/opt/conda/lib/python3.6/site-packages/tensorboard/compat/tensorflow_stub/dtypes.py:541: FutureWarning: Passing (type, 1) or '1type' as a synonym of type is deprecated; in a future version of numpy, it will be understood as (type, (1,)) / '(1,)type'.\n",
      "  _np_qint8 = np.dtype([(\"qint8\", np.int8, 1)])\n",
      "/opt/conda/lib/python3.6/site-packages/tensorboard/compat/tensorflow_stub/dtypes.py:542: FutureWarning: Passing (type, 1) or '1type' as a synonym of type is deprecated; in a future version of numpy, it will be understood as (type, (1,)) / '(1,)type'.\n",
      "  _np_quint8 = np.dtype([(\"quint8\", np.uint8, 1)])\n",
      "/opt/conda/lib/python3.6/site-packages/tensorboard/compat/tensorflow_stub/dtypes.py:543: FutureWarning: Passing (type, 1) or '1type' as a synonym of type is deprecated; in a future version of numpy, it will be understood as (type, (1,)) / '(1,)type'.\n",
      "  _np_qint16 = np.dtype([(\"qint16\", np.int16, 1)])\n",
      "/opt/conda/lib/python3.6/site-packages/tensorboard/compat/tensorflow_stub/dtypes.py:544: FutureWarning: Passing (type, 1) or '1type' as a synonym of type is deprecated; in a future version of numpy, it will be understood as (type, (1,)) / '(1,)type'.\n",
      "  _np_quint16 = np.dtype([(\"quint16\", np.uint16, 1)])\n",
      "/opt/conda/lib/python3.6/site-packages/tensorboard/compat/tensorflow_stub/dtypes.py:545: FutureWarning: Passing (type, 1) or '1type' as a synonym of type is deprecated; in a future version of numpy, it will be understood as (type, (1,)) / '(1,)type'.\n",
      "  _np_qint32 = np.dtype([(\"qint32\", np.int32, 1)])\n",
      "/opt/conda/lib/python3.6/site-packages/tensorboard/compat/tensorflow_stub/dtypes.py:550: FutureWarning: Passing (type, 1) or '1type' as a synonym of type is deprecated; in a future version of numpy, it will be understood as (type, (1,)) / '(1,)type'.\n",
      "  np_resource = np.dtype([(\"resource\", np.ubyte, 1)])\n"
     ]
    }
   ],
   "source": [
    "# Import Keras Libraries\n",
    "from keras.layers import Input, Dense\n",
    "from keras.layers import Conv1D, MaxPooling1D, Dropout, Flatten,Embedding, GRU\n",
    "from keras.layers.merge import concatenate\n",
    "from keras.models import Model\n",
    "from keras.preprocessing.text import Tokenizer\n",
    "from keras.preprocessing.sequence import pad_sequences"
   ]
  },
  {
   "cell_type": "code",
   "execution_count": 3,
   "metadata": {},
   "outputs": [],
   "source": [
    "# Import library for keras plotting model\n",
    "from keras.utils import  plot_model"
   ]
  },
  {
   "cell_type": "code",
   "execution_count": 4,
   "metadata": {},
   "outputs": [],
   "source": [
    "# Import sklearn libraries\n",
    "from sklearn.preprocessing import StandardScaler\n",
    "from sklearn.preprocessing import LabelEncoder\n",
    "from sklearn.preprocessing import OneHotEncoder\n",
    "from sklearn.model_selection import train_test_split"
   ]
  },
  {
   "cell_type": "code",
   "execution_count": 5,
   "metadata": {},
   "outputs": [],
   "source": [
    "# Importing Miscelaneous libraries\n",
    "import os\n",
    "import time"
   ]
  },
  {
   "cell_type": "markdown",
   "metadata": {},
   "source": [
    "<font color=blue size = 4.8>Loading dataset</font>"
   ]
  },
  {
   "cell_type": "code",
   "execution_count": 6,
   "metadata": {},
   "outputs": [
    {
     "data": {
      "text/plain": [
       "(58976, 28)"
      ]
     },
     "execution_count": 6,
     "metadata": {},
     "output_type": "execute_result"
    }
   ],
   "source": [
    "pathToData = '../input/'\n",
    "os.chdir(pathToData)\n",
    "# 2.2\n",
    "data = pd.read_csv('../input/mimic3d/mimic3d.csv',\n",
    "\t               compression='infer',\n",
    "                   encoding=\"ISO-8859-1\"      # 'utf-8' gives error, hence the choice\n",
    "                  )\n",
    "\n",
    "\n",
    "# 2.3 Inspect the data\n",
    "data.shape            # (58976, 28)"
   ]
  },
  {
   "cell_type": "markdown",
   "metadata": {},
   "source": [
    "<font color=blue size = 4.8>Dropping redundant columns & filling in missing cells</font>"
   ]
  },
  {
   "cell_type": "code",
   "execution_count": 7,
   "metadata": {
    "scrolled": true
   },
   "outputs": [
    {
     "data": {
      "text/plain": [
       "0"
      ]
     },
     "execution_count": 7,
     "metadata": {},
     "output_type": "execute_result"
    }
   ],
   "source": [
    "# Drop first column: 'hadm_id', being id column\n",
    "data.drop(['hadm_id'], axis = 'columns' , inplace = True)\n",
    "\n",
    "\n",
    "# Check for missing values\n",
    "data.isnull().values.sum()        # 10611\n",
    "\n",
    "# Check which columns have missing values\n",
    "data.columns[data.isnull().sum()  > 0]    # Three: Index(['AdmitDiagnosis', 'religion', 'marital_status'], dtype='object')\n",
    "\n",
    "# Let us follow a conservative and safe approach to fill missing values\n",
    "data.AdmitDiagnosis = data.AdmitDiagnosis.fillna(\"missing\")\n",
    "data.religion = data.religion.fillna(\"missing\")\n",
    "data.marital_status = data.marital_status.fillna(\"missing\")\n",
    "data.isnull().values.sum()  "
   ]
  },
  {
   "cell_type": "code",
   "execution_count": 8,
   "metadata": {},
   "outputs": [
    {
     "data": {
      "text/plain": [
       "Text(0.5, 1.0, 'Patient Age Distribution')"
      ]
     },
     "execution_count": 8,
     "metadata": {},
     "output_type": "execute_result"
    },
    {
     "data": {
      "image/png": "[encoded data removed]",
      "text/plain": [
       "<Figure size 1080x720 with 1 Axes>"
      ]
     },
     "metadata": {
      "needs_background": "light"
     },
     "output_type": "display_data"
    }
   ],
   "source": [
    "plt.figure(figsize=(15,10))\n",
    "sns.distplot(data['age'],hist=False)\n",
    "plt.title('Patient Age Distribution',fontsize=16)"
   ]
  },
  {
   "cell_type": "code",
   "execution_count": 9,
   "metadata": {},
   "outputs": [
    {
     "data": {
      "text/plain": [
       "Text(0.5, 1.0, 'Patient Length Of stay Distribution')"
      ]
     },
     "execution_count": 9,
     "metadata": {},
     "output_type": "execute_result"
    },
    {
     "data": {
      "image/png": "[encoded data removed]",
      "text/plain": [
       "<Figure size 1080x720 with 1 Axes>"
      ]
     },
     "metadata": {
      "needs_background": "light"
     },
     "output_type": "display_data"
    }
   ],
   "source": [
    "plt.figure(figsize=(15,10))\n",
    "sns.distplot(data['LOSdays'],hist=False)\n",
    "plt.title('Patient Length Of stay Distribution',fontsize=16)"
   ]
  },
  {
   "cell_type": "markdown",
   "metadata": {},
   "source": [
    "<font color=blue size = 4.8>Split data into -</font>\n",
    "1. Train & Test\n",
    "2. Categorical & Numeric"
   ]
  },
  {
   "cell_type": "code",
   "execution_count": 10,
   "metadata": {},
   "outputs": [
    {
     "data": {
      "text/plain": [
       "array(['gender', 'admit_type', 'admit_location', 'AdmitDiagnosis',\n",
       "       'insurance', 'religion', 'marital_status', 'ethnicity',\n",
       "       'AdmitProcedure'], dtype=object)"
      ]
     },
     "execution_count": 10,
     "metadata": {},
     "output_type": "execute_result"
    }
   ],
   "source": [
    "# Divide data into train/test\n",
    "dtrain,  dtest = train_test_split(data, test_size=0.33)\n",
    "\n",
    "\n",
    "# Check which columns are 'object'\n",
    "obj_columns = data.select_dtypes(include = ['object']).columns.values\n",
    "obj_columns\n"
   ]
  },
  {
   "cell_type": "code",
   "execution_count": 11,
   "metadata": {},
   "outputs": [
    {
     "data": {
      "text/plain": [
       "\"\\narray(['age', 'LOSdays', 'NumCallouts', 'NumDiagnosis', 'NumProcs',\\n       'NumCPTevents', 'NumInput', 'NumLabs', 'NumMicroLabs', 'NumNotes',\\n       'NumOutput', 'NumRx', 'NumProcEvents', 'NumTransfers',\\n       'NumChartEvents', 'ExpiredHospital', 'TotalNumInteract',\\n       'LOSgroupNum'], dtype=object)\\n\\nIInd column is target\\nAnd columns 'ExpiredHospital', 'LOSgroupNum' are categorical. See below\\n\\n\""
      ]
     },
     "execution_count": 11,
     "metadata": {},
     "output_type": "execute_result"
    }
   ],
   "source": [
    "# Check which columns have numeric data\n",
    "num = data.select_dtypes(include = ['int64', 'float64']).columns.values\n",
    "num\n",
    "\n",
    "\"\"\"\n",
    "array(['age', 'LOSdays', 'NumCallouts', 'NumDiagnosis', 'NumProcs',\n",
    "       'NumCPTevents', 'NumInput', 'NumLabs', 'NumMicroLabs', 'NumNotes',\n",
    "       'NumOutput', 'NumRx', 'NumProcEvents', 'NumTransfers',\n",
    "       'NumChartEvents', 'ExpiredHospital', 'TotalNumInteract',\n",
    "       'LOSgroupNum'], dtype=object)\n",
    "\n",
    "IInd column is target\n",
    "And columns 'ExpiredHospital', 'LOSgroupNum' are categorical. See below\n",
    "\n",
    "\"\"\"\n",
    "\n"
   ]
  },
  {
   "cell_type": "code",
   "execution_count": 12,
   "metadata": {},
   "outputs": [
    {
     "data": {
      "text/plain": [
       "0    53122\n",
       "1     5854\n",
       "Name: ExpiredHospital, dtype: int64"
      ]
     },
     "execution_count": 12,
     "metadata": {},
     "output_type": "execute_result"
    }
   ],
   "source": [
    "# Levels in columns: 'ExpiredHospital', 'LOSgroupNum'\n",
    "data.LOSgroupNum.value_counts()          # 4 levels\n",
    "data.ExpiredHospital.value_counts()      # 2 levels"
   ]
  },
  {
   "cell_type": "markdown",
   "metadata": {},
   "source": [
    "#**Pre-process categorical features**"
   ]
  },
  {
   "cell_type": "markdown",
   "metadata": {},
   "source": [
    "<font color=blue size = 4.8>Check number of levels in each categorical column</font>"
   ]
  },
  {
   "cell_type": "code",
   "execution_count": 13,
   "metadata": {
    "scrolled": true
   },
   "outputs": [
    {
     "name": "stdout",
     "output_type": "stream",
     "text": [
      "gender 2\n"
     ]
    },
    {
     "data": {
      "image/png": "[encoded data removed]",
      "text/plain": [
       "<Figure size 432x288 with 1 Axes>"
      ]
     },
     "metadata": {
      "needs_background": "light"
     },
     "output_type": "display_data"
    },
    {
     "name": "stdout",
     "output_type": "stream",
     "text": [
      "admit_type 4\n"
     ]
    },
    {
     "data": {
      "image/png": "[encoded data removed]",
      "text/plain": [
       "<Figure size 432x288 with 1 Axes>"
      ]
     },
     "metadata": {
      "needs_background": "light"
     },
     "output_type": "display_data"
    },
    {
     "name": "stdout",
     "output_type": "stream",
     "text": [
      "admit_location 9\n"
     ]
    },
    {
     "data": {
      "image/png": "[encoded data removed]",
      "text/plain": [
       "<Figure size 432x288 with 1 Axes>"
      ]
     },
     "metadata": {
      "needs_background": "light"
     },
     "output_type": "display_data"
    },
    {
     "name": "stdout",
     "output_type": "stream",
     "text": [
      "AdmitDiagnosis 15692\n",
      "insurance 5\n"
     ]
    },
    {
     "data": {
      "image/png": "[encoded data removed]",
      "text/plain": [
       "<Figure size 432x288 with 1 Axes>"
      ]
     },
     "metadata": {
      "needs_background": "light"
     },
     "output_type": "display_data"
    },
    {
     "name": "stdout",
     "output_type": "stream",
     "text": [
      "religion 21\n"
     ]
    },
    {
     "data": {
      "image/png": "[encoded data removed]",
      "text/plain": [
       "<Figure size 432x288 with 1 Axes>"
      ]
     },
     "metadata": {
      "needs_background": "light"
     },
     "output_type": "display_data"
    },
    {
     "name": "stdout",
     "output_type": "stream",
     "text": [
      "marital_status 8\n"
     ]
    },
    {
     "data": {
      "image/png": "[encoded data removed]",
      "text/plain": [
       "<Figure size 432x288 with 1 Axes>"
      ]
     },
     "metadata": {
      "needs_background": "light"
     },
     "output_type": "display_data"
    },
    {
     "name": "stdout",
     "output_type": "stream",
     "text": [
      "ethnicity 41\n",
      "AdmitProcedure 1277\n"
     ]
    }
   ],
   "source": [
    "for i in obj_columns:\n",
    "    print(i,len(data[i].value_counts()))\n",
    "    if(len(data[i].value_counts())<25):\n",
    "        data.groupby(data[i]).size().plot.bar()\n",
    "        plt.show()"
   ]
  },
  {
   "cell_type": "code",
   "execution_count": 14,
   "metadata": {},
   "outputs": [
    {
     "data": {
      "text/plain": [
       "Text(0, 0.5, 'Admit Type')"
      ]
     },
     "execution_count": 14,
     "metadata": {},
     "output_type": "execute_result"
    },
    {
     "data": {
      "image/png": "[encoded data removed]",
      "text/plain": [
       "<Figure size 864x720 with 1 Axes>"
      ]
     },
     "metadata": {
      "needs_background": "light"
     },
     "output_type": "display_data"
    }
   ],
   "source": [
    "plt.figure(figsize=(12,10))\n",
    "sns.barplot(x=data.admit_type, y=data.age,data=data, hue=data.gender,palette='spring')\n",
    "plt.xlabel('Age',fontsize=16)\n",
    "plt.ylabel('Admit Type',fontsize=16)"
   ]
  },
  {
   "cell_type": "markdown",
   "metadata": {},
   "source": [
    "<font color=blue size = 3>One Hot Encoding list of categorical columns having levels < 10 (mentioned in below array 'obj_cols')</font>"
   ]
  },
  {
   "cell_type": "code",
   "execution_count": 15,
   "metadata": {},
   "outputs": [
    {
     "data": {
      "text/plain": [
       "(19463, 34)"
      ]
     },
     "execution_count": 15,
     "metadata": {},
     "output_type": "execute_result"
    }
   ],
   "source": [
    "# 4.4 Final seven obj_columns for One Hot Encoding\n",
    "obj_cols = [\"gender\", \"admit_type\", \"admit_location\", \"insurance\" ,\"marital_status\", 'ExpiredHospital', 'LOSgroupNum']\n",
    "ohe = OneHotEncoder()\n",
    "# 4.4.1 Traing on dtrain\n",
    "ohe = ohe.fit(dtrain[obj_cols])\n",
    "# 4.4.2 Transform train (dtrain) and test (dtest) data\n",
    "dtrain_ohe = ohe.transform(dtrain[obj_cols])\n",
    "dtest_ohe = ohe.transform(dtest[obj_cols])\n",
    "# 4.4.3\n",
    "dtrain_ohe.shape       # (39513, 34)\n",
    "dtest_ohe.shape        # (19463, 34)"
   ]
  },
  {
   "cell_type": "markdown",
   "metadata": {},
   "source": [
    "<font color=blue size = 3>Label Encoding list of categorical columns having levels < 100</font>"
   ]
  },
  {
   "cell_type": "code",
   "execution_count": 16,
   "metadata": {},
   "outputs": [
    {
     "name": "stderr",
     "output_type": "stream",
     "text": [
      "/opt/conda/lib/python3.6/site-packages/ipykernel_launcher.py:6: SettingWithCopyWarning: \n",
      "A value is trying to be set on a copy of a slice from a DataFrame.\n",
      "Try using .loc[row_indexer,col_indexer] = value instead\n",
      "\n",
      "See the caveats in the documentation: http://pandas.pydata.org/pandas-docs/stable/indexing.html#indexing-view-versus-copy\n",
      "  \n",
      "/opt/conda/lib/python3.6/site-packages/ipykernel_launcher.py:7: SettingWithCopyWarning: \n",
      "A value is trying to be set on a copy of a slice from a DataFrame.\n",
      "Try using .loc[row_indexer,col_indexer] = value instead\n",
      "\n",
      "See the caveats in the documentation: http://pandas.pydata.org/pandas-docs/stable/indexing.html#indexing-view-versus-copy\n",
      "  import sys\n",
      "/opt/conda/lib/python3.6/site-packages/ipykernel_launcher.py:12: SettingWithCopyWarning: \n",
      "A value is trying to be set on a copy of a slice from a DataFrame.\n",
      "Try using .loc[row_indexer,col_indexer] = value instead\n",
      "\n",
      "See the caveats in the documentation: http://pandas.pydata.org/pandas-docs/stable/indexing.html#indexing-view-versus-copy\n",
      "  if sys.path[0] == '':\n",
      "/opt/conda/lib/python3.6/site-packages/ipykernel_launcher.py:13: SettingWithCopyWarning: \n",
      "A value is trying to be set on a copy of a slice from a DataFrame.\n",
      "Try using .loc[row_indexer,col_indexer] = value instead\n",
      "\n",
      "See the caveats in the documentation: http://pandas.pydata.org/pandas-docs/stable/indexing.html#indexing-view-versus-copy\n",
      "  del sys.path[0]\n"
     ]
    }
   ],
   "source": [
    "\n",
    "# 5.0 Label encode relegion and ethnicity\n",
    "# 5.1 First 'religion'\n",
    "\n",
    "le = LabelEncoder()\n",
    "le.fit(data[\"religion\"])                           # Train on full data else some labels may be absent in test data\n",
    "dtrain[\"re\"] = le.transform(dtrain['religion'])    # Create new column in dtrain\n",
    "dtest[\"re\"] = le.transform(dtest['religion'])      #   and in dtest\n",
    "\n",
    "# 5.2 Now 'ethnicity'\n",
    "le = LabelEncoder()\n",
    "le.fit(data[\"ethnicity\"])                          # train on full data\n",
    "dtrain[\"eth\"]= le.transform(dtrain['ethnicity'])   # Create new column in dtrain\n",
    "dtest[\"eth\"]= le.transform(dtest['ethnicity'])     #   and in dtest\n",
    "\n"
   ]
  },
  {
   "cell_type": "markdown",
   "metadata": {},
   "source": [
    "<font color=blue size = 3>Tokenizing list of categorical columns having levels > 100</font>"
   ]
  },
  {
   "cell_type": "code",
   "execution_count": 17,
   "metadata": {},
   "outputs": [
    {
     "name": "stderr",
     "output_type": "stream",
     "text": [
      "/opt/conda/lib/python3.6/site-packages/ipykernel_launcher.py:6: SettingWithCopyWarning: \n",
      "A value is trying to be set on a copy of a slice from a DataFrame.\n",
      "Try using .loc[row_indexer,col_indexer] = value instead\n",
      "\n",
      "See the caveats in the documentation: http://pandas.pydata.org/pandas-docs/stable/indexing.html#indexing-view-versus-copy\n",
      "  \n",
      "/opt/conda/lib/python3.6/site-packages/ipykernel_launcher.py:7: SettingWithCopyWarning: \n",
      "A value is trying to be set on a copy of a slice from a DataFrame.\n",
      "Try using .loc[row_indexer,col_indexer] = value instead\n",
      "\n",
      "See the caveats in the documentation: http://pandas.pydata.org/pandas-docs/stable/indexing.html#indexing-view-versus-copy\n",
      "  import sys\n",
      "/opt/conda/lib/python3.6/site-packages/ipykernel_launcher.py:15: SettingWithCopyWarning: \n",
      "A value is trying to be set on a copy of a slice from a DataFrame.\n",
      "Try using .loc[row_indexer,col_indexer] = value instead\n",
      "\n",
      "See the caveats in the documentation: http://pandas.pydata.org/pandas-docs/stable/indexing.html#indexing-view-versus-copy\n",
      "  from ipykernel import kernelapp as app\n",
      "/opt/conda/lib/python3.6/site-packages/ipykernel_launcher.py:16: SettingWithCopyWarning: \n",
      "A value is trying to be set on a copy of a slice from a DataFrame.\n",
      "Try using .loc[row_indexer,col_indexer] = value instead\n",
      "\n",
      "See the caveats in the documentation: http://pandas.pydata.org/pandas-docs/stable/indexing.html#indexing-view-versus-copy\n",
      "  app.launch_new_instance()\n"
     ]
    },
    {
     "data": {
      "text/plain": [
       "(19463, 31)"
      ]
     },
     "execution_count": 17,
     "metadata": {},
     "output_type": "execute_result"
    }
   ],
   "source": [
    "\n",
    "# 6. Finally transform two obj_columns for tokenization\n",
    "te_ad = Tokenizer()\n",
    "# 6.1 Train tokenizer on train data ie 'dtrain'\n",
    "te_ad.fit_on_texts(data.AdmitDiagnosis.values)\n",
    "# 6.2 Transform both dtrain and dtest and create new columns\n",
    "dtrain[\"ad\"] = te_ad.texts_to_sequences(dtrain.AdmitDiagnosis)\n",
    "dtest[\"ad\"] = te_ad.texts_to_sequences(dtest.AdmitDiagnosis)\n",
    "\n",
    "dtrain.shape\n",
    "dtest.shape\n",
    "\n",
    "# 6.3 Similarly for column: AdmitProcedure\n",
    "te_ap = Tokenizer(oov_token='<unk>')\n",
    "te_ap.fit_on_texts(data.AdmitProcedure.values)\n",
    "dtrain[\"ap\"] = te_ap.texts_to_sequences(dtrain.AdmitProcedure)\n",
    "dtest[\"ap\"] = te_ap.texts_to_sequences(dtest.AdmitProcedure)\n",
    "\n",
    "dtrain.shape\n",
    "dtest.shape\n",
    "\n"
   ]
  },
  {
   "cell_type": "markdown",
   "metadata": {},
   "source": [
    "<font color=blue size = 3>Get max length of the sequences</font>"
   ]
  },
  {
   "cell_type": "code",
   "execution_count": 18,
   "metadata": {},
   "outputs": [
    {
     "data": {
      "text/plain": [
       "24"
      ]
     },
     "execution_count": 18,
     "metadata": {},
     "output_type": "execute_result"
    }
   ],
   "source": [
    "# dtrain[\"ad\"], dtest[\"ad\"]\n",
    "\n",
    "maxlen_ad = 0\n",
    "for i in dtrain[\"ad\"]:\n",
    "\tif maxlen_ad < len(i):\n",
    "\t\tmaxlen_ad = len(i)\n",
    "\n",
    "for i in dtest[\"ad\"]:\n",
    "\tif maxlen_ad < len(i):\n",
    "\t\tmaxlen_ad = len(i)\n",
    "\n",
    "maxlen_ad\n",
    "\n"
   ]
  },
  {
   "cell_type": "code",
   "execution_count": 19,
   "metadata": {},
   "outputs": [
    {
     "data": {
      "text/plain": [
       "7"
      ]
     },
     "execution_count": 19,
     "metadata": {},
     "output_type": "execute_result"
    }
   ],
   "source": [
    "# dtrain[\"ap\"], dtest[\"ap\"]\n",
    "\n",
    "maxlen_ap = 0\n",
    "for i in dtrain[\"ap\"]:\n",
    "\tif maxlen_ap < len(i):\n",
    "\t\tmaxlen_ap = len(i)\n",
    "\n",
    "for i in dtest[\"ap\"]:\n",
    "\tif maxlen_ap < len(i):\n",
    "\t\tmaxlen_ap = len(i)\n",
    "\n",
    "maxlen_ap\n"
   ]
  },
  {
   "cell_type": "markdown",
   "metadata": {},
   "source": [
    "<font color=blue size = 3>Get max vocabulary size i.e value of highest integer for categorical features</font>"
   ]
  },
  {
   "cell_type": "code",
   "execution_count": 20,
   "metadata": {},
   "outputs": [],
   "source": [
    "# in dtrain[\"ad\"] and in dtest[\"ad\"]\n",
    "\n",
    "one = np.max([np.max(i) for i in dtrain[\"ad\"].tolist() ])\n",
    "two = np.max([np.max(i) for i in dtest[\"ad\"].tolist() ])\n",
    "MAX_VOCAB_AD = np.max([one,two])\n",
    "\n",
    "# in dtrain[\"ap\"] and in dtest[\"ap\"]\n",
    "\n",
    "one = np.max([np.max(i) for i in dtrain[\"ap\"].tolist() ])\n",
    "two = np.max([np.max(i) for i in dtest[\"ap\"].tolist() ])\n",
    "MAX_VOCAB_AP = np.max([one,two])\n",
    "\n",
    "# \n",
    "MAX_VOCAB_RE = len(dtrain.religion.value_counts())\n",
    "MAX_VOCAB_ETH = len(dtrain.ethnicity.value_counts())\n"
   ]
  },
  {
   "cell_type": "markdown",
   "metadata": {},
   "source": [
    "#**Pre-process numeric data 'num'**"
   ]
  },
  {
   "cell_type": "markdown",
   "metadata": {},
   "source": [
    "<font color=blue size = 3>Excluding 'LOSdays' since it is target</font>"
   ]
  },
  {
   "cell_type": "code",
   "execution_count": 21,
   "metadata": {},
   "outputs": [],
   "source": [
    "num = ['age', 'NumCallouts', 'NumDiagnosis', 'NumProcs',\n",
    "       'NumCPTevents', 'NumInput', 'NumLabs', 'NumMicroLabs', 'NumNotes',\n",
    "       'NumOutput', 'NumRx', 'NumProcEvents', 'NumTransfers',\n",
    "       'NumChartEvents', 'TotalNumInteract']"
   ]
  },
  {
   "cell_type": "code",
   "execution_count": 22,
   "metadata": {},
   "outputs": [
    {
     "data": {
      "text/plain": [
       "StandardScaler(copy=True, with_mean=True, with_std=True)"
      ]
     },
     "execution_count": 22,
     "metadata": {},
     "output_type": "execute_result"
    }
   ],
   "source": [
    "# Standardize numerical data\n",
    "se = StandardScaler()\n",
    "# Train on dtrain\n",
    "se.fit(dtrain.loc[:,num])\n"
   ]
  },
  {
   "cell_type": "code",
   "execution_count": 23,
   "metadata": {},
   "outputs": [
    {
     "name": "stderr",
     "output_type": "stream",
     "text": [
      "/opt/conda/lib/python3.6/site-packages/ipykernel_launcher.py:2: SettingWithCopyWarning: \n",
      "A value is trying to be set on a copy of a slice from a DataFrame.\n",
      "Try using .loc[row_indexer,col_indexer] = value instead\n",
      "\n",
      "See the caveats in the documentation: http://pandas.pydata.org/pandas-docs/stable/indexing.html#indexing-view-versus-copy\n",
      "  \n",
      "/opt/conda/lib/python3.6/site-packages/pandas/core/indexing.py:543: SettingWithCopyWarning: \n",
      "A value is trying to be set on a copy of a slice from a DataFrame.\n",
      "Try using .loc[row_indexer,col_indexer] = value instead\n",
      "\n",
      "See the caveats in the documentation: http://pandas.pydata.org/pandas-docs/stable/indexing.html#indexing-view-versus-copy\n",
      "  self.obj[item] = s\n",
      "/opt/conda/lib/python3.6/site-packages/ipykernel_launcher.py:3: SettingWithCopyWarning: \n",
      "A value is trying to be set on a copy of a slice from a DataFrame.\n",
      "Try using .loc[row_indexer,col_indexer] = value instead\n",
      "\n",
      "See the caveats in the documentation: http://pandas.pydata.org/pandas-docs/stable/indexing.html#indexing-view-versus-copy\n",
      "  This is separate from the ipykernel package so we can avoid doing imports until\n",
      "/opt/conda/lib/python3.6/site-packages/pandas/core/indexing.py:543: SettingWithCopyWarning: \n",
      "A value is trying to be set on a copy of a slice from a DataFrame.\n",
      "Try using .loc[row_indexer,col_indexer] = value instead\n",
      "\n",
      "See the caveats in the documentation: http://pandas.pydata.org/pandas-docs/stable/indexing.html#indexing-view-versus-copy\n",
      "  self.obj[item] = s\n"
     ]
    },
    {
     "data": {
      "text/html": [
       "<div>\n",
       "<style scoped>\n",
       "    .dataframe tbody tr th:only-of-type {\n",
       "        vertical-align: middle;\n",
       "    }\n",
       "\n",
       "    .dataframe tbody tr th {\n",
       "        vertical-align: top;\n",
       "    }\n",
       "\n",
       "    .dataframe thead th {\n",
       "        text-align: right;\n",
       "    }\n",
       "</style>\n",
       "<table border=\"1\" class=\"dataframe\">\n",
       "  <thead>\n",
       "    <tr style=\"text-align: right;\">\n",
       "      <th></th>\n",
       "      <th>age</th>\n",
       "      <th>NumCallouts</th>\n",
       "      <th>NumDiagnosis</th>\n",
       "      <th>NumProcs</th>\n",
       "      <th>NumCPTevents</th>\n",
       "      <th>NumInput</th>\n",
       "      <th>NumLabs</th>\n",
       "      <th>NumMicroLabs</th>\n",
       "      <th>NumNotes</th>\n",
       "      <th>NumOutput</th>\n",
       "      <th>NumRx</th>\n",
       "      <th>NumProcEvents</th>\n",
       "      <th>NumTransfers</th>\n",
       "      <th>NumChartEvents</th>\n",
       "      <th>TotalNumInteract</th>\n",
       "    </tr>\n",
       "  </thead>\n",
       "  <tbody>\n",
       "    <tr>\n",
       "      <th>29063</th>\n",
       "      <td>0.078140</td>\n",
       "      <td>-0.178724</td>\n",
       "      <td>-0.261907</td>\n",
       "      <td>0.066222</td>\n",
       "      <td>0.184814</td>\n",
       "      <td>-0.053721</td>\n",
       "      <td>-0.342507</td>\n",
       "      <td>-0.176140</td>\n",
       "      <td>-0.055952</td>\n",
       "      <td>0.931174</td>\n",
       "      <td>-0.103154</td>\n",
       "      <td>0.135177</td>\n",
       "      <td>-0.240783</td>\n",
       "      <td>0.339831</td>\n",
       "      <td>0.244031</td>\n",
       "    </tr>\n",
       "    <tr>\n",
       "      <th>37191</th>\n",
       "      <td>0.193094</td>\n",
       "      <td>-0.607730</td>\n",
       "      <td>1.078243</td>\n",
       "      <td>0.644750</td>\n",
       "      <td>3.109187</td>\n",
       "      <td>0.336019</td>\n",
       "      <td>1.445714</td>\n",
       "      <td>0.667944</td>\n",
       "      <td>-0.016841</td>\n",
       "      <td>1.671348</td>\n",
       "      <td>0.773815</td>\n",
       "      <td>-0.317759</td>\n",
       "      <td>0.024990</td>\n",
       "      <td>2.084667</td>\n",
       "      <td>1.954252</td>\n",
       "    </tr>\n",
       "    <tr>\n",
       "      <th>32326</th>\n",
       "      <td>-0.036815</td>\n",
       "      <td>-0.607730</td>\n",
       "      <td>-0.256812</td>\n",
       "      <td>0.108188</td>\n",
       "      <td>-0.469551</td>\n",
       "      <td>0.642491</td>\n",
       "      <td>0.049154</td>\n",
       "      <td>-0.283104</td>\n",
       "      <td>-0.057211</td>\n",
       "      <td>2.326219</td>\n",
       "      <td>0.138856</td>\n",
       "      <td>-0.317759</td>\n",
       "      <td>-0.145864</td>\n",
       "      <td>-0.153387</td>\n",
       "      <td>-0.062895</td>\n",
       "    </tr>\n",
       "  </tbody>\n",
       "</table>\n",
       "</div>"
      ],
      "text/plain": [
       "            age  NumCallouts  NumDiagnosis  NumProcs  NumCPTevents  NumInput  \\\n",
       "29063  0.078140    -0.178724     -0.261907  0.066222      0.184814 -0.053721   \n",
       "37191  0.193094    -0.607730      1.078243  0.644750      3.109187  0.336019   \n",
       "32326 -0.036815    -0.607730     -0.256812  0.108188     -0.469551  0.642491   \n",
       "\n",
       "        NumLabs  NumMicroLabs  NumNotes  NumOutput     NumRx  NumProcEvents  \\\n",
       "29063 -0.342507     -0.176140 -0.055952   0.931174 -0.103154       0.135177   \n",
       "37191  1.445714      0.667944 -0.016841   1.671348  0.773815      -0.317759   \n",
       "32326  0.049154     -0.283104 -0.057211   2.326219  0.138856      -0.317759   \n",
       "\n",
       "       NumTransfers  NumChartEvents  TotalNumInteract  \n",
       "29063     -0.240783        0.339831          0.244031  \n",
       "37191      0.024990        2.084667          1.954252  \n",
       "32326     -0.145864       -0.153387         -0.062895  "
      ]
     },
     "execution_count": 23,
     "metadata": {},
     "output_type": "execute_result"
    }
   ],
   "source": [
    "# Then transform both dtrain and dtest\n",
    "dtrain[num] = se.transform(dtrain[num])\n",
    "dtest[num] = se.transform(dtest[num])\n",
    "dtest.loc[:,num].head(3)"
   ]
  },
  {
   "cell_type": "code",
   "execution_count": 24,
   "metadata": {},
   "outputs": [],
   "source": [
    "# Reshape train num data\n",
    "dtrain[num].values.shape\n",
    "dtr_reshape = dtrain[num].values.reshape(39513,15,1)"
   ]
  },
  {
   "cell_type": "code",
   "execution_count": 25,
   "metadata": {},
   "outputs": [],
   "source": [
    "# Reshape test num data\n",
    "dtest[num].values.shape\n",
    "dts_reshape = dtest[num].values.reshape(19463,15,1)"
   ]
  },
  {
   "cell_type": "markdown",
   "metadata": {},
   "source": [
    "#**Concatenate all inputs using a dictionary**"
   ]
  },
  {
   "cell_type": "code",
   "execution_count": 26,
   "metadata": {},
   "outputs": [],
   "source": [
    "# Training data\n",
    "Xtr = {\n",
    "\t\"num\" : dtr_reshape,          # Note the name 'num'\n",
    "\t\"ohe\" : dtrain_ohe.toarray(),        # Note the name 'ohe'\n",
    "\t\"re\"  : dtrain[\"re\"].values,\n",
    "\t\"eth\" : dtrain[\"eth\"].values,\n",
    "\t\"ad\"  : pad_sequences(dtrain.ad, maxlen=maxlen_ad),\n",
    "\t\"ap\"  : pad_sequences(dtrain.ap, maxlen=maxlen_ap )\n",
    "      }"
   ]
  },
  {
   "cell_type": "code",
   "execution_count": 27,
   "metadata": {},
   "outputs": [],
   "source": [
    "# Test data\n",
    "Xte = {\n",
    "\t\"num\" : dts_reshape,\n",
    "\t\"ohe\" : dtest_ohe.toarray(),\n",
    "\t\"re\"  : dtest[\"re\"].values,\n",
    "\t\"eth\" : dtest[\"eth\"].values,\n",
    "\t\"ad\"  : pad_sequences(dtest.ad, maxlen=maxlen_ad ),\n",
    "\t\"ap\"  : pad_sequences(dtest.ap, maxlen=maxlen_ap )\n",
    "      }"
   ]
  },
  {
   "cell_type": "code",
   "execution_count": 28,
   "metadata": {},
   "outputs": [
    {
     "data": {
      "text/plain": [
       "(39513,)"
      ]
     },
     "execution_count": 28,
     "metadata": {},
     "output_type": "execute_result"
    }
   ],
   "source": [
    "# Just check shapes.\n",
    "# Total data features are now: 15 + 34 + 24 + 7 + 1 +1 = 82\n",
    "# Embeddings have thus generated new features.\n",
    "Xtr[\"num\"].shape         # (39513, 15)\n",
    "Xtr[\"ohe\"].shape         # (39513, 34)\n",
    "Xtr[\"ad\"].shape          # (39513, 24)\n",
    "Xtr[\"ap\"].shape          # (39513, 7)\n",
    "Xtr[\"re\"].shape          # (39513,)  1D\n",
    "Xtr[\"eth\"].shape         # (39513,)  1D"
   ]
  },
  {
   "cell_type": "markdown",
   "metadata": {},
   "source": [
    "#**Pass this concatenated input to Keras Model**"
   ]
  },
  {
   "cell_type": "code",
   "execution_count": 29,
   "metadata": {},
   "outputs": [],
   "source": [
    "# Design a simple model now\n",
    "\n",
    "dr_level = 0.1\n",
    "\n",
    "# 11.1\n",
    "num = Input(\n",
    "                      shape= (Xtr[\"num\"].shape[1], 1 ),\n",
    "\t\t\t\t\t  name = \"num\"            # Name 'num' should be a key in the dictionary for numpy array input\n",
    "\t\t\t\t\t                          #    That is, this name should be the same as that of key in the dictionary\n",
    "\t\t\t\t\t  )\n",
    "\n",
    "# 11.2\n",
    "ohe =   Input(\n",
    "                      shape= (Xtr[\"ohe\"].shape[1], ),\n",
    "\t\t\t\t\t  name = \"ohe\"\n",
    "\t\t\t\t\t  )\n",
    "\n",
    "# 11.3\n",
    "re =   Input(\n",
    "                      shape= [1],  # 1D shape or one feature\n",
    "\t\t\t\t\t  name = \"re\"\n",
    "\t\t\t\t\t  )\n",
    "# 11.4\n",
    "eth =   Input(\n",
    "                      shape= [1],  # 1D shape or one feature\n",
    "\t\t\t\t\t  name = \"eth\"\n",
    "\t\t\t\t\t  )\n",
    "# 11.5\n",
    "ad =   Input(\n",
    "                      shape= (Xtr[\"ad\"].shape[1], ),\n",
    "\t\t\t\t\t  name = \"ad\"\n",
    "\t\t\t\t\t  )\n",
    "# 11.6\n",
    "ap =   Input(\n",
    "                      shape= (Xtr[\"ap\"].shape[1],),\n",
    "\t\t\t\t\t  name = \"ap\"\n",
    "\t\t\t\t\t  )\n"
   ]
  },
  {
   "cell_type": "markdown",
   "metadata": {},
   "source": [
    "#**Mapping categorical levels to an embedding space**"
   ]
  },
  {
   "cell_type": "code",
   "execution_count": 30,
   "metadata": {},
   "outputs": [],
   "source": [
    "# Embedding layers for each of the two of the columns with sequence data\n",
    "emb_ad  =      Embedding(MAX_VOCAB_AD+ 1 ,      32  )(ad )\n",
    "emb_ap  =      Embedding(MAX_VOCAB_AP+ 1 ,      32  )(ap)\n",
    "\n",
    "# Embedding layers for the two categorical variables\n",
    "emb_re  =      Embedding(MAX_VOCAB_RE+ 1 ,      32  )(re)\n",
    "emb_eth =      Embedding(MAX_VOCAB_ETH+ 1 ,      32  )(eth)\n",
    "\n",
    "# GRU layers for sequences\n",
    "gru_ad = GRU(16) (emb_ad)          # Output of GRU is a vector of size 8\n",
    "gru_ap = GRU(16) (emb_ap)"
   ]
  },
  {
   "cell_type": "markdown",
   "metadata": {},
   "source": [
    "#**Processing numeric data using Convolution network**"
   ]
  },
  {
   "cell_type": "code",
   "execution_count": 31,
   "metadata": {},
   "outputs": [],
   "source": [
    "conv_out = Conv1D(32, kernel_size=2, activation='relu')(num)\n",
    "mp_num = MaxPooling1D(pool_size=2)(conv_out)\n",
    "num_x = Flatten()(mp_num)\n",
    "num_in = Flatten()(num)\n",
    "num_final = concatenate([num_in,num_x])"
   ]
  },
  {
   "cell_type": "markdown",
   "metadata": {},
   "source": [
    "#**Creating a model with 6 inputs and concatenating 6 respective outputs in a Dense layer**"
   ]
  },
  {
   "cell_type": "code",
   "execution_count": 32,
   "metadata": {},
   "outputs": [
    {
     "name": "stdout",
     "output_type": "stream",
     "text": [
      "__________________________________________________________________________________________________\n",
      "Layer (type)                    Output Shape         Param #     Connected to                     \n",
      "==================================================================================================\n",
      "num (InputLayer)                (None, 15, 1)        0                                            \n",
      "__________________________________________________________________________________________________\n",
      "conv1d_1 (Conv1D)               (None, 14, 32)       96          num[0][0]                        \n",
      "__________________________________________________________________________________________________\n",
      "ad (InputLayer)                 (None, 24)           0                                            \n",
      "__________________________________________________________________________________________________\n",
      "ap (InputLayer)                 (None, 7)            0                                            \n",
      "__________________________________________________________________________________________________\n",
      "max_pooling1d_1 (MaxPooling1D)  (None, 7, 32)        0           conv1d_1[0][0]                   \n",
      "__________________________________________________________________________________________________\n",
      "embedding_1 (Embedding)         (None, 24, 32)       157920      ad[0][0]                         \n",
      "__________________________________________________________________________________________________\n",
      "embedding_2 (Embedding)         (None, 7, 32)        42784       ap[0][0]                         \n",
      "__________________________________________________________________________________________________\n",
      "re (InputLayer)                 (None, 1)            0                                            \n",
      "__________________________________________________________________________________________________\n",
      "eth (InputLayer)                (None, 1)            0                                            \n",
      "__________________________________________________________________________________________________\n",
      "flatten_2 (Flatten)             (None, 15)           0           num[0][0]                        \n",
      "__________________________________________________________________________________________________\n",
      "flatten_1 (Flatten)             (None, 224)          0           max_pooling1d_1[0][0]            \n",
      "__________________________________________________________________________________________________\n",
      "gru_1 (GRU)                     (None, 16)           2352        embedding_1[0][0]                \n",
      "__________________________________________________________________________________________________\n",
      "gru_2 (GRU)                     (None, 16)           2352        embedding_2[0][0]                \n",
      "__________________________________________________________________________________________________\n",
      "embedding_3 (Embedding)         (None, 1, 32)        704         re[0][0]                         \n",
      "__________________________________________________________________________________________________\n",
      "embedding_4 (Embedding)         (None, 1, 32)        1344        eth[0][0]                        \n",
      "__________________________________________________________________________________________________\n",
      "concatenate_1 (Concatenate)     (None, 239)          0           flatten_2[0][0]                  \n",
      "                                                                 flatten_1[0][0]                  \n",
      "__________________________________________________________________________________________________\n",
      "ohe (InputLayer)                (None, 34)           0                                            \n",
      "==================================================================================================\n",
      "Total params: 207,552\n",
      "Trainable params: 207,552\n",
      "Non-trainable params: 0\n",
      "__________________________________________________________________________________________________\n"
     ]
    }
   ],
   "source": [
    "model = Model([num, ohe, re, eth, ad,ap], [gru_ad, gru_ap, emb_re, emb_eth, num_final, ohe])\n",
    "model.summary()"
   ]
  },
  {
   "cell_type": "code",
   "execution_count": 33,
   "metadata": {},
   "outputs": [],
   "source": [
    "# Concatenate all outputs\n",
    "class_l = concatenate([\n",
    "                      gru_ad,              # GRU output is already 1D\n",
    "                      gru_ap,\n",
    "                      num_final,           # 1D output. No need to flatten. Observe model summary\n",
    "                      ohe,                 # 1D output\n",
    "                      Flatten()(emb_re),   # Need to flatten. Observe model summary above\n",
    "                      Flatten()(emb_eth)\n",
    "                      ]\n",
    "                     )"
   ]
  },
  {
   "cell_type": "code",
   "execution_count": 34,
   "metadata": {},
   "outputs": [],
   "source": [
    "# Add classification layer\n",
    "class_l = Dense(64) (class_l)\n",
    "class_l = Dropout(0.1)(class_l)\n",
    "class_l = Dense(32) (class_l)\n",
    "class_l = Dropout(0.1) (class_l)"
   ]
  },
  {
   "cell_type": "code",
   "execution_count": 35,
   "metadata": {},
   "outputs": [],
   "source": [
    "# Output neuron. Activation is linear as our output is continous\n",
    "output = Dense(1, activation=\"linear\") (class_l)\n"
   ]
  },
  {
   "cell_type": "code",
   "execution_count": 36,
   "metadata": {},
   "outputs": [],
   "source": [
    "# Formulate Model now\n",
    "model = Model(\n",
    "              inputs= [num, ohe, re, eth, ad, ap],\n",
    "              outputs= output\n",
    "             )\n"
   ]
  },
  {
   "cell_type": "code",
   "execution_count": 37,
   "metadata": {},
   "outputs": [
    {
     "name": "stdout",
     "output_type": "stream",
     "text": [
      "__________________________________________________________________________________________________\n",
      "Layer (type)                    Output Shape         Param #     Connected to                     \n",
      "==================================================================================================\n",
      "num (InputLayer)                (None, 15, 1)        0                                            \n",
      "__________________________________________________________________________________________________\n",
      "conv1d_1 (Conv1D)               (None, 14, 32)       96          num[0][0]                        \n",
      "__________________________________________________________________________________________________\n",
      "ad (InputLayer)                 (None, 24)           0                                            \n",
      "__________________________________________________________________________________________________\n",
      "ap (InputLayer)                 (None, 7)            0                                            \n",
      "__________________________________________________________________________________________________\n",
      "max_pooling1d_1 (MaxPooling1D)  (None, 7, 32)        0           conv1d_1[0][0]                   \n",
      "__________________________________________________________________________________________________\n",
      "re (InputLayer)                 (None, 1)            0                                            \n",
      "__________________________________________________________________________________________________\n",
      "eth (InputLayer)                (None, 1)            0                                            \n",
      "__________________________________________________________________________________________________\n",
      "embedding_1 (Embedding)         (None, 24, 32)       157920      ad[0][0]                         \n",
      "__________________________________________________________________________________________________\n",
      "embedding_2 (Embedding)         (None, 7, 32)        42784       ap[0][0]                         \n",
      "__________________________________________________________________________________________________\n",
      "flatten_2 (Flatten)             (None, 15)           0           num[0][0]                        \n",
      "__________________________________________________________________________________________________\n",
      "flatten_1 (Flatten)             (None, 224)          0           max_pooling1d_1[0][0]            \n",
      "__________________________________________________________________________________________________\n",
      "embedding_3 (Embedding)         (None, 1, 32)        704         re[0][0]                         \n",
      "__________________________________________________________________________________________________\n",
      "embedding_4 (Embedding)         (None, 1, 32)        1344        eth[0][0]                        \n",
      "__________________________________________________________________________________________________\n",
      "gru_1 (GRU)                     (None, 16)           2352        embedding_1[0][0]                \n",
      "__________________________________________________________________________________________________\n",
      "gru_2 (GRU)                     (None, 16)           2352        embedding_2[0][0]                \n",
      "__________________________________________________________________________________________________\n",
      "concatenate_1 (Concatenate)     (None, 239)          0           flatten_2[0][0]                  \n",
      "                                                                 flatten_1[0][0]                  \n",
      "__________________________________________________________________________________________________\n",
      "ohe (InputLayer)                (None, 34)           0                                            \n",
      "__________________________________________________________________________________________________\n",
      "flatten_3 (Flatten)             (None, 32)           0           embedding_3[0][0]                \n",
      "__________________________________________________________________________________________________\n",
      "flatten_4 (Flatten)             (None, 32)           0           embedding_4[0][0]                \n",
      "__________________________________________________________________________________________________\n",
      "concatenate_2 (Concatenate)     (None, 369)          0           gru_1[0][0]                      \n",
      "                                                                 gru_2[0][0]                      \n",
      "                                                                 concatenate_1[0][0]              \n",
      "                                                                 ohe[0][0]                        \n",
      "                                                                 flatten_3[0][0]                  \n",
      "                                                                 flatten_4[0][0]                  \n",
      "__________________________________________________________________________________________________\n",
      "dense_1 (Dense)                 (None, 64)           23680       concatenate_2[0][0]              \n",
      "__________________________________________________________________________________________________\n",
      "dropout_1 (Dropout)             (None, 64)           0           dense_1[0][0]                    \n",
      "__________________________________________________________________________________________________\n",
      "dense_2 (Dense)                 (None, 32)           2080        dropout_1[0][0]                  \n",
      "__________________________________________________________________________________________________\n",
      "dropout_2 (Dropout)             (None, 32)           0           dense_2[0][0]                    \n",
      "__________________________________________________________________________________________________\n",
      "dense_3 (Dense)                 (None, 1)            33          dropout_2[0][0]                  \n",
      "==================================================================================================\n",
      "Total params: 233,345\n",
      "Trainable params: 233,345\n",
      "Non-trainable params: 0\n",
      "__________________________________________________________________________________________________\n"
     ]
    }
   ],
   "source": [
    "# \n",
    "model.summary()"
   ]
  },
  {
   "cell_type": "code",
   "execution_count": 38,
   "metadata": {
    "scrolled": true
   },
   "outputs": [
    {
     "data": {
      "text/plain": [
       "<matplotlib.image.AxesImage at 0x7fdd8cf1ba20>"
      ]
     },
     "execution_count": 38,
     "metadata": {},
     "output_type": "execute_result"
    },
    {
     "data": {
      "image/png": "[encoded data removed]",
      "text/plain": [
       "<Figure size 1008x1008 with 1 Axes>"
      ]
     },
     "metadata": {
      "needs_background": "light"
     },
     "output_type": "display_data"
    }
   ],
   "source": [
    "# Model plot uisng keras plot_model()\n",
    "plt.figure(figsize = (14,14))\n",
    "plot_model(model, to_file = \"model.png\")\n",
    "io.imshow(\"model.png\")"
   ]
  },
  {
   "cell_type": "markdown",
   "metadata": {},
   "source": [
    "<font color=green>As we can see there are 6 inputs: Numeric (num), One hot encoded features (\"gender\", \"admit_type\", \"admit_location\", \"insurance\" ,\"marital_status\", \"ExpiredHospital\", \"LOSgroupNum\"), Religion (re), Ethnicity (eth), Admit Diagnosis (ad) and Admit procedure (ap). Their corresponding 6 outputs are concatenated and passed to a Dense Classification layer. This model will minimize the Mean Sqare Error (mse) significantly.</font>"
   ]
  },
  {
   "cell_type": "markdown",
   "metadata": {},
   "source": [
    "#**Compile Model**"
   ]
  },
  {
   "cell_type": "code",
   "execution_count": 39,
   "metadata": {},
   "outputs": [],
   "source": [
    "# Compile model\n",
    "model.compile(loss=\"mse\",\n",
    "              optimizer=\"adam\",\n",
    "              metrics=[\"mae\"]\n",
    "\t\t\t  )"
   ]
  },
  {
   "cell_type": "code",
   "execution_count": 40,
   "metadata": {},
   "outputs": [],
   "source": [
    "# 13.1\n",
    "BATCH_SIZE = 5000\n",
    "epochs = 20"
   ]
  },
  {
   "cell_type": "markdown",
   "metadata": {},
   "source": [
    "#**Fitting model on Validation data**"
   ]
  },
  {
   "cell_type": "code",
   "execution_count": 41,
   "metadata": {
    "scrolled": true
   },
   "outputs": [
    {
     "name": "stdout",
     "output_type": "stream",
     "text": [
      "Train on 39513 samples, validate on 19463 samples\n",
      "Epoch 1/20\n",
      "39513/39513 [==============================] - 4s 97us/step - loss: 228.3001 - mean_absolute_error: 9.0602 - val_loss: 216.5196 - val_mean_absolute_error: 7.8698\n",
      "Epoch 2/20\n",
      "39513/39513 [==============================] - 2s 42us/step - loss: 180.5411 - mean_absolute_error: 7.1188 - val_loss: 170.5833 - val_mean_absolute_error: 6.6495\n",
      "Epoch 3/20\n",
      "39513/39513 [==============================] - 2s 42us/step - loss: 145.2826 - mean_absolute_error: 6.7965 - val_loss: 151.6118 - val_mean_absolute_error: 7.3164\n",
      "Epoch 4/20\n",
      "39513/39513 [==============================] - 2s 42us/step - loss: 139.2160 - mean_absolute_error: 7.2722 - val_loss: 146.2256 - val_mean_absolute_error: 6.8558\n",
      "Epoch 5/20\n",
      "39513/39513 [==============================] - 2s 42us/step - loss: 130.7953 - mean_absolute_error: 6.4286 - val_loss: 139.8477 - val_mean_absolute_error: 6.0909\n",
      "Epoch 6/20\n",
      "39513/39513 [==============================] - 2s 42us/step - loss: 125.2303 - mean_absolute_error: 5.9659 - val_loss: 135.1161 - val_mean_absolute_error: 5.9065\n",
      "Epoch 7/20\n",
      "39513/39513 [==============================] - 2s 42us/step - loss: 118.6905 - mean_absolute_error: 5.8204 - val_loss: 127.2664 - val_mean_absolute_error: 5.7515\n",
      "Epoch 8/20\n",
      "39513/39513 [==============================] - 2s 41us/step - loss: 111.2184 - mean_absolute_error: 5.6134 - val_loss: 119.7342 - val_mean_absolute_error: 5.5025\n",
      "Epoch 9/20\n",
      "39513/39513 [==============================] - 2s 42us/step - loss: 102.8599 - mean_absolute_error: 5.3441 - val_loss: 112.8391 - val_mean_absolute_error: 5.2245\n",
      "Epoch 10/20\n",
      "39513/39513 [==============================] - 2s 42us/step - loss: 96.1705 - mean_absolute_error: 5.1522 - val_loss: 106.4568 - val_mean_absolute_error: 5.0878\n",
      "Epoch 11/20\n",
      "39513/39513 [==============================] - 2s 41us/step - loss: 90.2743 - mean_absolute_error: 4.9548 - val_loss: 101.0306 - val_mean_absolute_error: 4.9325\n",
      "Epoch 12/20\n",
      "39513/39513 [==============================] - 2s 43us/step - loss: 85.1548 - mean_absolute_error: 4.7404 - val_loss: 96.1679 - val_mean_absolute_error: 4.6309\n",
      "Epoch 13/20\n",
      "39513/39513 [==============================] - 2s 43us/step - loss: 80.4683 - mean_absolute_error: 4.5675 - val_loss: 91.7989 - val_mean_absolute_error: 4.6038\n",
      "Epoch 14/20\n",
      "39513/39513 [==============================] - 2s 42us/step - loss: 76.8705 - mean_absolute_error: 4.4361 - val_loss: 88.5434 - val_mean_absolute_error: 4.5473\n",
      "Epoch 15/20\n",
      "39513/39513 [==============================] - 2s 43us/step - loss: 73.2233 - mean_absolute_error: 4.2925 - val_loss: 85.4226 - val_mean_absolute_error: 4.4693\n",
      "Epoch 16/20\n",
      "39513/39513 [==============================] - 2s 42us/step - loss: 70.0566 - mean_absolute_error: 4.1956 - val_loss: 82.6867 - val_mean_absolute_error: 4.3158\n",
      "Epoch 17/20\n",
      "39513/39513 [==============================] - 2s 42us/step - loss: 68.0545 - mean_absolute_error: 4.1547 - val_loss: 80.7457 - val_mean_absolute_error: 4.2006\n",
      "Epoch 18/20\n",
      "39513/39513 [==============================] - 2s 43us/step - loss: 65.9462 - mean_absolute_error: 4.0325 - val_loss: 78.8332 - val_mean_absolute_error: 4.1391\n",
      "Epoch 19/20\n",
      "39513/39513 [==============================] - 2s 42us/step - loss: 64.0675 - mean_absolute_error: 3.9728 - val_loss: 77.5360 - val_mean_absolute_error: 4.1334\n",
      "Epoch 20/20\n",
      "39513/39513 [==============================] - 2s 43us/step - loss: 62.6942 - mean_absolute_error: 3.9898 - val_loss: 76.4711 - val_mean_absolute_error: 4.1523\n",
      "0.6245214025179545\n"
     ]
    }
   ],
   "source": [
    "\n",
    "# \n",
    "start = time.time()\n",
    "history= model.fit(Xtr,\n",
    "                   dtrain.LOSdays,\n",
    "                   epochs=epochs,\n",
    "                   batch_size=BATCH_SIZE,\n",
    "\t\t\t\t   validation_data=(Xte, dtest.LOSdays),\n",
    "\t\t\t\t   verbose = 1\n",
    "                  )\n",
    "end = time.time()\n",
    "print((end-start)/60)"
   ]
  },
  {
   "cell_type": "code",
   "execution_count": null,
   "metadata": {},
   "outputs": [],
   "source": []
  }
 ],
 "metadata": {
  "kernelspec": {
   "display_name": "Python 3",
   "language": "python",
   "name": "python3"
  },
  "language_info": {
   "codemirror_mode": {
    "name": "ipython",
    "version": 3
   },
   "file_extension": ".py",
   "mimetype": "text/x-python",
   "name": "python",
   "nbconvert_exporter": "python",
   "pygments_lexer": "ipython3",
   "version": "3.6.6"
  }
 },
 "nbformat": 4,
 "nbformat_minor": 1
}
