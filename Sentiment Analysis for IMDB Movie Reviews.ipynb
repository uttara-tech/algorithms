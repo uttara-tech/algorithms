{
 "cells": [
  {
   "cell_type": "code",
   "execution_count": 119,
   "metadata": {},
   "outputs": [],
   "source": [
    "#Importing Data manipulation and plotting modules\n",
    "import numpy as np\n",
    "import pandas as pd\n",
    "import matplotlib.pyplot as plt\n",
    "import seaborn as sns\n",
    "import os"
   ]
  },
  {
   "cell_type": "code",
   "execution_count": 120,
   "metadata": {},
   "outputs": [],
   "source": [
    "# Import TFIDF library\n",
    "from sklearn.feature_extraction.text import TfidfVectorizer\n",
    "# Import library for stemming words\n",
    "from nltk.stem.porter import PorterStemmer\n",
    "# Import regular expression library\n",
    "import re\n",
    "# import library to perform String operations\n",
    "import string "
   ]
  },
  {
   "cell_type": "code",
   "execution_count": 121,
   "metadata": {},
   "outputs": [],
   "source": [
    "#Importing libraries for Data pre-processing\n",
    "from sklearn.preprocessing import StandardScaler"
   ]
  },
  {
   "cell_type": "code",
   "execution_count": 122,
   "metadata": {},
   "outputs": [],
   "source": [
    "#Importing model for Dimentionality Reduction\n",
    "from sklearn.decomposition import PCA"
   ]
  },
  {
   "cell_type": "code",
   "execution_count": 123,
   "metadata": {},
   "outputs": [],
   "source": [
    "#Importing libraries for performance measures\n",
    "from sklearn.metrics import confusion_matrix\n",
    "from sklearn.metrics import precision_recall_fscore_support\n",
    "from sklearn.metrics import accuracy_score\n",
    "from sklearn.metrics import auc, roc_curve"
   ]
  },
  {
   "cell_type": "code",
   "execution_count": 124,
   "metadata": {},
   "outputs": [],
   "source": [
    "# Import Classifier library\n",
    "from sklearn.ensemble import RandomForestClassifier"
   ]
  },
  {
   "cell_type": "code",
   "execution_count": 125,
   "metadata": {},
   "outputs": [],
   "source": [
    "#Importing libraries For data splitting\n",
    "from sklearn.model_selection import train_test_split"
   ]
  },
  {
   "cell_type": "markdown",
   "metadata": {},
   "source": [
    "**Loading files containing positive & negative reviews and combining them together to create a single list**"
   ]
  },
  {
   "cell_type": "code",
   "execution_count": 126,
   "metadata": {},
   "outputs": [],
   "source": [
    "path_neg = \"/home/ashok/Documents/exercise/train/neg\"\n",
    "path_pos = \"/home/ashok/Documents/exercise/train/pos\""
   ]
  },
  {
   "cell_type": "code",
   "execution_count": 127,
   "metadata": {},
   "outputs": [],
   "source": [
    "# Function to Read files\n",
    "def readFiles(fileList):\n",
    "    lines = []\n",
    "    for i in fileList:\n",
    "        text_file = open(i, \"r\",  encoding=\"utf8\")\n",
    "        tx = text_file.readlines()\n",
    "        tx = \" \".join(tx)\n",
    "        lines.append(tx)\n",
    "    return(lines)"
   ]
  },
  {
   "cell_type": "code",
   "execution_count": 128,
   "metadata": {},
   "outputs": [
    {
     "data": {
      "text/plain": [
       "1000"
      ]
     },
     "execution_count": 128,
     "metadata": {},
     "output_type": "execute_result"
    }
   ],
   "source": [
    "# Read all files in 'neg' folder\n",
    "os.chdir(path_neg)\n",
    "neg_fileList = os.listdir()\n",
    "neg_files_list = readFiles(neg_fileList)\n",
    "len(neg_files_list)"
   ]
  },
  {
   "cell_type": "code",
   "execution_count": 129,
   "metadata": {},
   "outputs": [
    {
     "data": {
      "text/plain": [
       "1000"
      ]
     },
     "execution_count": 129,
     "metadata": {},
     "output_type": "execute_result"
    }
   ],
   "source": [
    "# Read all files in 'pos' folder\n",
    "os.chdir(path_pos)\n",
    "pos_fileList = os.listdir()\n",
    "pos_files_list = readFiles(pos_fileList)\n",
    "len(pos_files_list)"
   ]
  },
  {
   "cell_type": "code",
   "execution_count": 130,
   "metadata": {},
   "outputs": [
    {
     "data": {
      "text/plain": [
       "2000"
      ]
     },
     "execution_count": 130,
     "metadata": {},
     "output_type": "execute_result"
    }
   ],
   "source": [
    "# Merge the two lists\n",
    "comb_files = neg_files_list + pos_files_list\n",
    "len(comb_files)"
   ]
  },
  {
   "cell_type": "code",
   "execution_count": 131,
   "metadata": {},
   "outputs": [],
   "source": [
    "# Clean the list of strings\n",
    "def cleanTxt(listOfStrings):\n",
    "    lines = []\n",
    "    for tx in listOfStrings:\n",
    "        clean = re.compile('<.*?>')\n",
    "        tx = re.sub(clean, '', tx)\n",
    "        tx= re.sub(r'[\\[0-9\\]]',' ', tx)\n",
    "        tx= re.sub('\\n',' ', tx)\n",
    "        tx= re.sub('\\'s',' ', tx)\n",
    "        tx= re.sub('\\'s',' ', tx)\n",
    "        # 4.3.3 Replace URLs\n",
    "        tx = re.sub(r'^https?:\\/\\/.*[\\r\\n]*', '', tx, flags=re.MULTILINE)\n",
    "        tx = re.sub('[*|\\(\\)\\{\\}]', \" \",tx)\n",
    "        tx = re.sub('[=]*', \"\",tx)\n",
    "        clean = re.compile('&lt;')\n",
    "        tx = re.sub(clean, '', tx)\n",
    "        clean = re.compile('&gt;')\n",
    "        tx = re.sub(clean, '', tx)\n",
    "        clean = re.compile('&quot;')\n",
    "        tx = re.sub(clean, '', tx)\n",
    "        tx = tx.translate(tx.maketrans(\"\",\"\",string.punctuation))\n",
    "        lines.append(tx)\n",
    "    return lines\n"
   ]
  },
  {
   "cell_type": "code",
   "execution_count": 132,
   "metadata": {},
   "outputs": [
    {
     "data": {
      "text/plain": [
       "'plunkett  macleane marks the directing debut of jake scott  brother of ridley and tony    naturally  this got me worried    would jake  talent be inherited from ridley or tony    if it was from ridley  than the movie would be a thoughtful suspensor with action thrown in    if it was from tony  it would be wham bang drivel    unfortunately  the latter is true for this worthless picture with little charm    carlyle and miller are the titular highwaymen  plunkett   carlyle   who is poor and unruly  and captain james macleane   miller   a clean cut gentleman    as the tagline clearly wants to make known  they rob the rich and nothing else    the film basically follows the rowdy hold ups the two stage  along with romantic interludes with lady rebecca   tyler      hot on both their tails is mr chance   ken stott   who wants to see them both dead    plunkett  macleane is an annoying little film that serves little purpose    although undoubtedly slick and fast paced  there  very little merit contained in the film    carlyle and miller are fun enough as the foul mouthed pair  although their characters are criminally undeveloped    it appears that much of the money has been spent on the expensive looking sets and costumes  but not on the script    the five      screenwriters   three credited   have produced an still born movie  there  very little development in the story    also  major events  such as mr  cash finding out who plunkett and macleane really are  are so rushed that they barely happened    the story is a bit of a mess  frankly    the performances arent bad  carlyle and miller are typical lads  but liv tyler is a huge disappointment as the love interest    her irritable  stilted performance sticks out like a sore thumb  and i was quite unsure on what accent she was trying to put on    she looks nice  though    more interesting is alan cummings as the campy lord rochester  and although his character amounts to nothing more than a two dimensional comedy gay character  he hams it up well    ken stott is suitably evil as chance  but again he is nothing but a flat character    i didnt particularly care when the predictable death sequence arrived    although a disappointment in writing  and a minor success in acting  the film certainly look lavish  with good costumes  and wonderful sets    but production design alone cant save a movie  especially a movie as bad as this mess    jake scott would be more suited to directing a music video rather than this failed update of a period drama  the only update seems to be the fact that everyone must talk dirty  with f   ck this and  tand and f   cking deliver splattered all over the place    the mtv editing and direction are flash enough  but in the end decidedly empty    plunkett  macleane is a massive disappointment    although somewhat enjoyable during parts  it  so light it could float off the screen if it wasnt just images on a reel    there  no thought  no development  no plot  just a series of manic edits and quirky camera angles to make this film appeal to genxers    although it  a great idea  update a period drama to the mtv generation  it  execution is awful  and would more likely bore than excite    sloppy and occasionally off puttingly tasteless  it  hard to recommend plunkett  macleane as a movie  but easy to recommend it as a overlong music video    give it a miss   '"
      ]
     },
     "execution_count": 132,
     "metadata": {},
     "output_type": "execute_result"
    }
   ],
   "source": [
    "cleaned_lines = cleanTxt(comb_files)\n",
    "cleaned_lines[0]"
   ]
  },
  {
   "cell_type": "code",
   "execution_count": 133,
   "metadata": {},
   "outputs": [
    {
     "data": {
      "text/plain": [
       "2000"
      ]
     },
     "execution_count": 133,
     "metadata": {},
     "output_type": "execute_result"
    }
   ],
   "source": [
    "len(cleaned_lines)"
   ]
  },
  {
   "cell_type": "markdown",
   "metadata": {},
   "source": [
    "**Creating tokens using Porter Stemmer**"
   ]
  },
  {
   "cell_type": "code",
   "execution_count": 134,
   "metadata": {},
   "outputs": [],
   "source": [
    "porter_stemmer = PorterStemmer()"
   ]
  },
  {
   "cell_type": "code",
   "execution_count": 135,
   "metadata": {},
   "outputs": [],
   "source": [
    "# Define a function to use NLTK's PorterStemmer\n",
    "def stemming_tokenizer(str_input):\n",
    "    words = str_input.split()\n",
    "    words = [porter_stemmer.stem(word) for word in words]\n",
    "    return words"
   ]
  },
  {
   "cell_type": "code",
   "execution_count": 136,
   "metadata": {},
   "outputs": [
    {
     "data": {
      "text/plain": [
       "2000"
      ]
     },
     "execution_count": 136,
     "metadata": {},
     "output_type": "execute_result"
    }
   ],
   "source": [
    "# Creating tokens and storing in a list\n",
    "new_lines = []\n",
    "for line in cleaned_lines:\n",
    "    #print(line)\n",
    "    stemmed_line = stemming_tokenizer(line)\n",
    "    stemmed_line = \" \".join(stemmed_line)    # Join words back into a string\n",
    "    new_lines.append(stemmed_line)\n",
    "len(new_lines)"
   ]
  },
  {
   "cell_type": "code",
   "execution_count": 137,
   "metadata": {},
   "outputs": [
    {
     "data": {
      "text/plain": [
       "'plunkett maclean mark the direct debut of jake scott brother of ridley and toni natur thi got me worri would jake talent be inherit from ridley or toni if it wa from ridley than the movi would be a thought suspensor with action thrown in if it wa from toni it would be wham bang drivel unfortun the latter is true for thi worthless pictur with littl charm carlyl and miller are the titular highwaymen plunkett carlyl who is poor and unruli and captain jame maclean miller a clean cut gentleman as the taglin clearli want to make known they rob the rich and noth els the film basic follow the rowdi hold up the two stage along with romant interlud with ladi rebecca tyler hot on both their tail is mr chanc ken stott who want to see them both dead plunkett maclean is an annoy littl film that serv littl purpos although undoubtedli slick and fast pace there veri littl merit contain in the film carlyl and miller are fun enough as the foul mouth pair although their charact are crimin undevelop it appear that much of the money ha been spent on the expens look set and costum but not on the script the five screenwrit three credit have produc an still born movi there veri littl develop in the stori also major event such as mr cash find out who plunkett and maclean realli are are so rush that they bare happen the stori is a bit of a mess frankli the perform arent bad carlyl and miller are typic lad but liv tyler is a huge disappoint as the love interest her irrit stilt perform stick out like a sore thumb and i wa quit unsur on what accent she wa tri to put on she look nice though more interest is alan cum as the campi lord rochest and although hi charact amount to noth more than a two dimension comedi gay charact he ham it up well ken stott is suitabl evil as chanc but again he is noth but a flat charact i didnt particularli care when the predict death sequenc arriv although a disappoint in write and a minor success in act the film certainli look lavish with good costum and wonder set but product design alon cant save a movi especi a movi as bad as thi mess jake scott would be more suit to direct a music video rather than thi fail updat of a period drama the onli updat seem to be the fact that everyon must talk dirti with f ck thi and tand and f cking deliv splatter all over the place the mtv edit and direct are flash enough but in the end decidedli empti plunkett maclean is a massiv disappoint although somewhat enjoy dure part it so light it could float off the screen if it wasnt just imag on a reel there no thought no develop no plot just a seri of manic edit and quirki camera angl to make thi film appeal to genxer although it a great idea updat a period drama to the mtv gener it execut is aw and would more like bore than excit sloppi and occasion off puttingli tasteless it hard to recommend plunkett maclean as a movi but easi to recommend it as a overlong music video give it a miss'"
      ]
     },
     "execution_count": 137,
     "metadata": {},
     "output_type": "execute_result"
    }
   ],
   "source": [
    "new_lines[0]"
   ]
  },
  {
   "cell_type": "code",
   "execution_count": 138,
   "metadata": {},
   "outputs": [],
   "source": [
    "# Transform text to tf-idf matrix\n",
    "\n",
    "vec = TfidfVectorizer(use_idf=True,\n",
    "                      strip_accents = 'unicode', # Remove accents during preprocessing step.\n",
    "                      lowercase = True,\n",
    "                      tokenizer=stemming_tokenizer,\n",
    "                      max_features = 10000,   # Consider only top frequent features\n",
    "                      stop_words='english'  # Remove stop-words\n",
    "                      )"
   ]
  },
  {
   "cell_type": "code",
   "execution_count": 139,
   "metadata": {
    "scrolled": true
   },
   "outputs": [
    {
     "data": {
      "text/plain": [
       "<2000x10000 sparse matrix of type '<class 'numpy.float64'>'\n",
       "\twith 442313 stored elements in Compressed Sparse Row format>"
      ]
     },
     "execution_count": 139,
     "metadata": {},
     "output_type": "execute_result"
    },
    {
     "data": {
      "text/plain": [
       "(2000, 10000)"
      ]
     },
     "execution_count": 139,
     "metadata": {},
     "output_type": "execute_result"
    }
   ],
   "source": [
    "# Fit & transform using 'vec' object & create a sparse matrix\n",
    "data = vec.fit_transform(cleaned_lines)\n",
    "data\n",
    "data.shape"
   ]
  },
  {
   "cell_type": "markdown",
   "metadata": {},
   "source": [
    "**Splitting data into train and test**"
   ]
  },
  {
   "cell_type": "code",
   "execution_count": 140,
   "metadata": {},
   "outputs": [
    {
     "data": {
      "text/html": [
       "<div>\n",
       "<style scoped>\n",
       "    .dataframe tbody tr th:only-of-type {\n",
       "        vertical-align: middle;\n",
       "    }\n",
       "\n",
       "    .dataframe tbody tr th {\n",
       "        vertical-align: top;\n",
       "    }\n",
       "\n",
       "    .dataframe thead th {\n",
       "        text-align: right;\n",
       "    }\n",
       "</style>\n",
       "<table border=\"1\" class=\"dataframe\">\n",
       "  <thead>\n",
       "    <tr style=\"text-align: right;\">\n",
       "      <th></th>\n",
       "      <th>\u0016</th>\n",
       "      <th>aaron</th>\n",
       "      <th>abandon</th>\n",
       "      <th>abbi</th>\n",
       "      <th>abduct</th>\n",
       "      <th>aberdeen</th>\n",
       "      <th>abigail</th>\n",
       "      <th>abil</th>\n",
       "      <th>abl</th>\n",
       "      <th>abli</th>\n",
       "      <th>...</th>\n",
       "      <th>zip</th>\n",
       "      <th>zoe</th>\n",
       "      <th>zombi</th>\n",
       "      <th>zone</th>\n",
       "      <th>zoo</th>\n",
       "      <th>zooland</th>\n",
       "      <th>zoom</th>\n",
       "      <th>zorro</th>\n",
       "      <th>zucker</th>\n",
       "      <th>zwick</th>\n",
       "    </tr>\n",
       "  </thead>\n",
       "  <tbody>\n",
       "    <tr>\n",
       "      <th>0</th>\n",
       "      <td>0.0</td>\n",
       "      <td>0.0</td>\n",
       "      <td>0.0</td>\n",
       "      <td>0.0</td>\n",
       "      <td>0.0</td>\n",
       "      <td>0.0</td>\n",
       "      <td>0.0</td>\n",
       "      <td>0.0</td>\n",
       "      <td>0.0</td>\n",
       "      <td>0.0</td>\n",
       "      <td>...</td>\n",
       "      <td>0.0</td>\n",
       "      <td>0.0</td>\n",
       "      <td>0.0</td>\n",
       "      <td>0.0</td>\n",
       "      <td>0.0</td>\n",
       "      <td>0.0</td>\n",
       "      <td>0.0</td>\n",
       "      <td>0.0</td>\n",
       "      <td>0.0</td>\n",
       "      <td>0.0</td>\n",
       "    </tr>\n",
       "    <tr>\n",
       "      <th>1</th>\n",
       "      <td>0.0</td>\n",
       "      <td>0.0</td>\n",
       "      <td>0.0</td>\n",
       "      <td>0.0</td>\n",
       "      <td>0.0</td>\n",
       "      <td>0.0</td>\n",
       "      <td>0.0</td>\n",
       "      <td>0.0</td>\n",
       "      <td>0.0</td>\n",
       "      <td>0.0</td>\n",
       "      <td>...</td>\n",
       "      <td>0.0</td>\n",
       "      <td>0.0</td>\n",
       "      <td>0.0</td>\n",
       "      <td>0.0</td>\n",
       "      <td>0.0</td>\n",
       "      <td>0.0</td>\n",
       "      <td>0.0</td>\n",
       "      <td>0.0</td>\n",
       "      <td>0.0</td>\n",
       "      <td>0.0</td>\n",
       "    </tr>\n",
       "    <tr>\n",
       "      <th>2</th>\n",
       "      <td>0.0</td>\n",
       "      <td>0.0</td>\n",
       "      <td>0.0</td>\n",
       "      <td>0.0</td>\n",
       "      <td>0.0</td>\n",
       "      <td>0.0</td>\n",
       "      <td>0.0</td>\n",
       "      <td>0.0</td>\n",
       "      <td>0.0</td>\n",
       "      <td>0.0</td>\n",
       "      <td>...</td>\n",
       "      <td>0.0</td>\n",
       "      <td>0.0</td>\n",
       "      <td>0.0</td>\n",
       "      <td>0.0</td>\n",
       "      <td>0.0</td>\n",
       "      <td>0.0</td>\n",
       "      <td>0.0</td>\n",
       "      <td>0.0</td>\n",
       "      <td>0.0</td>\n",
       "      <td>0.0</td>\n",
       "    </tr>\n",
       "    <tr>\n",
       "      <th>3</th>\n",
       "      <td>0.0</td>\n",
       "      <td>0.0</td>\n",
       "      <td>0.0</td>\n",
       "      <td>0.0</td>\n",
       "      <td>0.0</td>\n",
       "      <td>0.0</td>\n",
       "      <td>0.0</td>\n",
       "      <td>0.0</td>\n",
       "      <td>0.0</td>\n",
       "      <td>0.0</td>\n",
       "      <td>...</td>\n",
       "      <td>0.0</td>\n",
       "      <td>0.0</td>\n",
       "      <td>0.0</td>\n",
       "      <td>0.0</td>\n",
       "      <td>0.0</td>\n",
       "      <td>0.0</td>\n",
       "      <td>0.0</td>\n",
       "      <td>0.0</td>\n",
       "      <td>0.0</td>\n",
       "      <td>0.0</td>\n",
       "    </tr>\n",
       "    <tr>\n",
       "      <th>4</th>\n",
       "      <td>0.0</td>\n",
       "      <td>0.0</td>\n",
       "      <td>0.0</td>\n",
       "      <td>0.0</td>\n",
       "      <td>0.0</td>\n",
       "      <td>0.0</td>\n",
       "      <td>0.0</td>\n",
       "      <td>0.0</td>\n",
       "      <td>0.0</td>\n",
       "      <td>0.0</td>\n",
       "      <td>...</td>\n",
       "      <td>0.0</td>\n",
       "      <td>0.0</td>\n",
       "      <td>0.0</td>\n",
       "      <td>0.0</td>\n",
       "      <td>0.0</td>\n",
       "      <td>0.0</td>\n",
       "      <td>0.0</td>\n",
       "      <td>0.0</td>\n",
       "      <td>0.0</td>\n",
       "      <td>0.0</td>\n",
       "    </tr>\n",
       "  </tbody>\n",
       "</table>\n",
       "<p>5 rows × 10000 columns</p>\n",
       "</div>"
      ],
      "text/plain": [
       "     \u0016  aaron  abandon  abbi  abduct  aberdeen  abigail  abil  abl  abli  \\\n",
       "0  0.0    0.0      0.0   0.0     0.0       0.0      0.0   0.0  0.0   0.0   \n",
       "1  0.0    0.0      0.0   0.0     0.0       0.0      0.0   0.0  0.0   0.0   \n",
       "2  0.0    0.0      0.0   0.0     0.0       0.0      0.0   0.0  0.0   0.0   \n",
       "3  0.0    0.0      0.0   0.0     0.0       0.0      0.0   0.0  0.0   0.0   \n",
       "4  0.0    0.0      0.0   0.0     0.0       0.0      0.0   0.0  0.0   0.0   \n",
       "\n",
       "   ...    zip  zoe  zombi  zone  zoo  zooland  zoom  zorro  zucker  zwick  \n",
       "0  ...    0.0  0.0    0.0   0.0  0.0      0.0   0.0    0.0     0.0    0.0  \n",
       "1  ...    0.0  0.0    0.0   0.0  0.0      0.0   0.0    0.0     0.0    0.0  \n",
       "2  ...    0.0  0.0    0.0   0.0  0.0      0.0   0.0    0.0     0.0    0.0  \n",
       "3  ...    0.0  0.0    0.0   0.0  0.0      0.0   0.0    0.0     0.0    0.0  \n",
       "4  ...    0.0  0.0    0.0   0.0  0.0      0.0   0.0    0.0     0.0    0.0  \n",
       "\n",
       "[5 rows x 10000 columns]"
      ]
     },
     "execution_count": 140,
     "metadata": {},
     "output_type": "execute_result"
    }
   ],
   "source": [
    "# Creating a dataframe\n",
    "df = pd.DataFrame(data.toarray(), columns=vec.get_feature_names())\n",
    "df.head()"
   ]
  },
  {
   "cell_type": "code",
   "execution_count": 141,
   "metadata": {},
   "outputs": [
    {
     "data": {
      "text/plain": [
       "[0, 0, 0, 0, 0, 0, 0, 0, 0, 0, 1, 1, 1, 1, 1, 1, 1, 1, 1, 1]"
      ]
     },
     "execution_count": 141,
     "metadata": {},
     "output_type": "execute_result"
    }
   ],
   "source": [
    "# Create target labels\n",
    "target = [0] * 1000 + [1] * 1000\n",
    "target[990:1010]"
   ]
  },
  {
   "cell_type": "code",
   "execution_count": 142,
   "metadata": {},
   "outputs": [
    {
     "data": {
      "text/plain": [
       "(2000, 10001)"
      ]
     },
     "execution_count": 142,
     "metadata": {},
     "output_type": "execute_result"
    }
   ],
   "source": [
    "df['Sentiment'] = target\n",
    "df.shape"
   ]
  },
  {
   "cell_type": "code",
   "execution_count": 143,
   "metadata": {},
   "outputs": [
    {
     "data": {
      "text/html": [
       "<div>\n",
       "<style scoped>\n",
       "    .dataframe tbody tr th:only-of-type {\n",
       "        vertical-align: middle;\n",
       "    }\n",
       "\n",
       "    .dataframe tbody tr th {\n",
       "        vertical-align: top;\n",
       "    }\n",
       "\n",
       "    .dataframe thead th {\n",
       "        text-align: right;\n",
       "    }\n",
       "</style>\n",
       "<table border=\"1\" class=\"dataframe\">\n",
       "  <thead>\n",
       "    <tr style=\"text-align: right;\">\n",
       "      <th></th>\n",
       "      <th>\u0016</th>\n",
       "      <th>aaron</th>\n",
       "      <th>abandon</th>\n",
       "      <th>abbi</th>\n",
       "      <th>abduct</th>\n",
       "      <th>aberdeen</th>\n",
       "      <th>abigail</th>\n",
       "      <th>abil</th>\n",
       "      <th>abl</th>\n",
       "      <th>abli</th>\n",
       "      <th>...</th>\n",
       "      <th>zip</th>\n",
       "      <th>zoe</th>\n",
       "      <th>zombi</th>\n",
       "      <th>zone</th>\n",
       "      <th>zoo</th>\n",
       "      <th>zooland</th>\n",
       "      <th>zoom</th>\n",
       "      <th>zorro</th>\n",
       "      <th>zucker</th>\n",
       "      <th>zwick</th>\n",
       "    </tr>\n",
       "  </thead>\n",
       "  <tbody>\n",
       "    <tr>\n",
       "      <th>0</th>\n",
       "      <td>0.0</td>\n",
       "      <td>0.0</td>\n",
       "      <td>0.0</td>\n",
       "      <td>0.0</td>\n",
       "      <td>0.0</td>\n",
       "      <td>0.0</td>\n",
       "      <td>0.0</td>\n",
       "      <td>0.0</td>\n",
       "      <td>0.0</td>\n",
       "      <td>0.0</td>\n",
       "      <td>...</td>\n",
       "      <td>0.0</td>\n",
       "      <td>0.0</td>\n",
       "      <td>0.0</td>\n",
       "      <td>0.0</td>\n",
       "      <td>0.0</td>\n",
       "      <td>0.0</td>\n",
       "      <td>0.0</td>\n",
       "      <td>0.0</td>\n",
       "      <td>0.0</td>\n",
       "      <td>0.0</td>\n",
       "    </tr>\n",
       "    <tr>\n",
       "      <th>1</th>\n",
       "      <td>0.0</td>\n",
       "      <td>0.0</td>\n",
       "      <td>0.0</td>\n",
       "      <td>0.0</td>\n",
       "      <td>0.0</td>\n",
       "      <td>0.0</td>\n",
       "      <td>0.0</td>\n",
       "      <td>0.0</td>\n",
       "      <td>0.0</td>\n",
       "      <td>0.0</td>\n",
       "      <td>...</td>\n",
       "      <td>0.0</td>\n",
       "      <td>0.0</td>\n",
       "      <td>0.0</td>\n",
       "      <td>0.0</td>\n",
       "      <td>0.0</td>\n",
       "      <td>0.0</td>\n",
       "      <td>0.0</td>\n",
       "      <td>0.0</td>\n",
       "      <td>0.0</td>\n",
       "      <td>0.0</td>\n",
       "    </tr>\n",
       "    <tr>\n",
       "      <th>2</th>\n",
       "      <td>0.0</td>\n",
       "      <td>0.0</td>\n",
       "      <td>0.0</td>\n",
       "      <td>0.0</td>\n",
       "      <td>0.0</td>\n",
       "      <td>0.0</td>\n",
       "      <td>0.0</td>\n",
       "      <td>0.0</td>\n",
       "      <td>0.0</td>\n",
       "      <td>0.0</td>\n",
       "      <td>...</td>\n",
       "      <td>0.0</td>\n",
       "      <td>0.0</td>\n",
       "      <td>0.0</td>\n",
       "      <td>0.0</td>\n",
       "      <td>0.0</td>\n",
       "      <td>0.0</td>\n",
       "      <td>0.0</td>\n",
       "      <td>0.0</td>\n",
       "      <td>0.0</td>\n",
       "      <td>0.0</td>\n",
       "    </tr>\n",
       "    <tr>\n",
       "      <th>3</th>\n",
       "      <td>0.0</td>\n",
       "      <td>0.0</td>\n",
       "      <td>0.0</td>\n",
       "      <td>0.0</td>\n",
       "      <td>0.0</td>\n",
       "      <td>0.0</td>\n",
       "      <td>0.0</td>\n",
       "      <td>0.0</td>\n",
       "      <td>0.0</td>\n",
       "      <td>0.0</td>\n",
       "      <td>...</td>\n",
       "      <td>0.0</td>\n",
       "      <td>0.0</td>\n",
       "      <td>0.0</td>\n",
       "      <td>0.0</td>\n",
       "      <td>0.0</td>\n",
       "      <td>0.0</td>\n",
       "      <td>0.0</td>\n",
       "      <td>0.0</td>\n",
       "      <td>0.0</td>\n",
       "      <td>0.0</td>\n",
       "    </tr>\n",
       "    <tr>\n",
       "      <th>4</th>\n",
       "      <td>0.0</td>\n",
       "      <td>0.0</td>\n",
       "      <td>0.0</td>\n",
       "      <td>0.0</td>\n",
       "      <td>0.0</td>\n",
       "      <td>0.0</td>\n",
       "      <td>0.0</td>\n",
       "      <td>0.0</td>\n",
       "      <td>0.0</td>\n",
       "      <td>0.0</td>\n",
       "      <td>...</td>\n",
       "      <td>0.0</td>\n",
       "      <td>0.0</td>\n",
       "      <td>0.0</td>\n",
       "      <td>0.0</td>\n",
       "      <td>0.0</td>\n",
       "      <td>0.0</td>\n",
       "      <td>0.0</td>\n",
       "      <td>0.0</td>\n",
       "      <td>0.0</td>\n",
       "      <td>0.0</td>\n",
       "    </tr>\n",
       "  </tbody>\n",
       "</table>\n",
       "<p>5 rows × 10000 columns</p>\n",
       "</div>"
      ],
      "text/plain": [
       "     \u0016  aaron  abandon  abbi  abduct  aberdeen  abigail  abil  abl  abli  \\\n",
       "0  0.0    0.0      0.0   0.0     0.0       0.0      0.0   0.0  0.0   0.0   \n",
       "1  0.0    0.0      0.0   0.0     0.0       0.0      0.0   0.0  0.0   0.0   \n",
       "2  0.0    0.0      0.0   0.0     0.0       0.0      0.0   0.0  0.0   0.0   \n",
       "3  0.0    0.0      0.0   0.0     0.0       0.0      0.0   0.0  0.0   0.0   \n",
       "4  0.0    0.0      0.0   0.0     0.0       0.0      0.0   0.0  0.0   0.0   \n",
       "\n",
       "   ...    zip  zoe  zombi  zone  zoo  zooland  zoom  zorro  zucker  zwick  \n",
       "0  ...    0.0  0.0    0.0   0.0  0.0      0.0   0.0    0.0     0.0    0.0  \n",
       "1  ...    0.0  0.0    0.0   0.0  0.0      0.0   0.0    0.0     0.0    0.0  \n",
       "2  ...    0.0  0.0    0.0   0.0  0.0      0.0   0.0    0.0     0.0    0.0  \n",
       "3  ...    0.0  0.0    0.0   0.0  0.0      0.0   0.0    0.0     0.0    0.0  \n",
       "4  ...    0.0  0.0    0.0   0.0  0.0      0.0   0.0    0.0     0.0    0.0  \n",
       "\n",
       "[5 rows x 10000 columns]"
      ]
     },
     "execution_count": 143,
     "metadata": {},
     "output_type": "execute_result"
    }
   ],
   "source": [
    "X = df.iloc[:,0:10000]\n",
    "X.head()"
   ]
  },
  {
   "cell_type": "code",
   "execution_count": 144,
   "metadata": {},
   "outputs": [
    {
     "data": {
      "text/plain": [
       "0    0\n",
       "1    0\n",
       "2    0\n",
       "3    0\n",
       "4    0\n",
       "Name: Sentiment, dtype: int64"
      ]
     },
     "execution_count": 144,
     "metadata": {},
     "output_type": "execute_result"
    }
   ],
   "source": [
    "y=df.iloc[:,10000]\n",
    "y.head()"
   ]
  },
  {
   "cell_type": "code",
   "execution_count": 145,
   "metadata": {},
   "outputs": [],
   "source": [
    "X_train, X_test, y_train, y_test = train_test_split(X,\n",
    "                                                    y,\n",
    "                                                    test_size=0.3,\n",
    "                                                    shuffle = True\n",
    "                                                    )"
   ]
  },
  {
   "cell_type": "code",
   "execution_count": 146,
   "metadata": {},
   "outputs": [
    {
     "name": "stdout",
     "output_type": "stream",
     "text": [
      "X_test shape : (600, 10000)\n",
      "X_train shape: (1400, 10000)\n",
      "y_test shape : (600,)\n",
      "y_train shape: (1400,)\n"
     ]
    }
   ],
   "source": [
    "print('X_test shape :',X_test.shape)\n",
    "print('X_train shape:',X_train.shape)\n",
    "print('y_test shape :',y_test.shape)\n",
    "print('y_train shape:',y_train.shape)"
   ]
  },
  {
   "cell_type": "markdown",
   "metadata": {},
   "source": [
    "**Random Forest Modeling**"
   ]
  },
  {
   "cell_type": "code",
   "execution_count": 147,
   "metadata": {
    "scrolled": true
   },
   "outputs": [
    {
     "name": "stdout",
     "output_type": "stream",
     "text": [
      "Accuracy for RF: 0.8183333333333334\n"
     ]
    }
   ],
   "source": [
    "rf = RandomForestClassifier(n_estimators=2000,n_jobs=2)\n",
    "rf1 = rf.fit(X_train,y_train)\n",
    "\n",
    "y_pred_rf = rf1.predict(X_test)\n",
    "\n",
    "y_pred_rf_prob = rf1.predict_proba(X_test)\n",
    "\n",
    "print('Accuracy for RF:',accuracy_score(y_test,y_pred_rf))\n"
   ]
  },
  {
   "cell_type": "code",
   "execution_count": 148,
   "metadata": {},
   "outputs": [
    {
     "name": "stdout",
     "output_type": "stream",
     "text": [
      "Confusion Matrix:\n",
      " [[249  48]\n",
      " [ 61 242]]\n",
      "Precision: [0.80322581 0.83448276]\n",
      "Recall [0.83838384 0.79867987]\n",
      "Precision [0.82042834 0.81618887]\n"
     ]
    }
   ],
   "source": [
    "print('Confusion Matrix:\\n',confusion_matrix(y_test,y_pred_rf))\n",
    "\n",
    "p_rf,r_rf,f_rf,_ = precision_recall_fscore_support(y_test,y_pred_rf)\n",
    "print('Precision:',p_rf)\n",
    "print('Recall',r_rf)\n",
    "print('Precision',f_rf)"
   ]
  },
  {
   "cell_type": "code",
   "execution_count": 149,
   "metadata": {},
   "outputs": [
    {
     "data": {
      "text/plain": [
       "Text(0.5,0,'False Positive Rate')"
      ]
     },
     "execution_count": 149,
     "metadata": {},
     "output_type": "execute_result"
    },
    {
     "data": {
      "text/plain": [
       "Text(0,0.5,'True Positive Rate')"
      ]
     },
     "execution_count": 149,
     "metadata": {},
     "output_type": "execute_result"
    },
    {
     "data": {
      "text/plain": [
       "Text(0.5,1,'ROC curve for Random Forest')"
      ]
     },
     "execution_count": 149,
     "metadata": {},
     "output_type": "execute_result"
    },
    {
     "data": {
      "text/plain": [
       "[<matplotlib.lines.Line2D at 0x7fad22d602b0>]"
      ]
     },
     "execution_count": 149,
     "metadata": {},
     "output_type": "execute_result"
    },
    {
     "data": {
      "image/png": "[encoded data removed]",
      "text/plain": [
       "<matplotlib.figure.Figure at 0x7fad5b22ecc0>"
      ]
     },
     "metadata": {},
     "output_type": "display_data"
    }
   ],
   "source": [
    "\n",
    "fpr_rf, tpr_rf, thresholds = roc_curve(y_test,\n",
    "                                 y_pred_rf_prob[: , 1],\n",
    "                                 pos_label= 1\n",
    "                                 )\n",
    "\n",
    "fig = plt.figure(figsize=(12,10))          # Create window frame\n",
    "ax = fig.add_subplot(111)   # Create axes\n",
    "ax.set_xlabel('False Positive Rate')  # Final plot decorations\n",
    "ax.set_ylabel('True Positive Rate')\n",
    "ax.set_title('ROC curve for Random Forest')\n",
    "ax.plot(fpr_rf, tpr_rf, label = \"rf\")"
   ]
  },
  {
   "cell_type": "markdown",
   "metadata": {},
   "source": [
    "**Multinomial Naive Bayes**\n",
    "\n",
    "**The multinomial Naive Bayes classifier is suitable for classification with discrete features (e.g., word counts for text classification).**"
   ]
  },
  {
   "cell_type": "code",
   "execution_count": 150,
   "metadata": {},
   "outputs": [],
   "source": [
    "from sklearn.naive_bayes import MultinomialNB"
   ]
  },
  {
   "cell_type": "code",
   "execution_count": 153,
   "metadata": {},
   "outputs": [
    {
     "name": "stdout",
     "output_type": "stream",
     "text": [
      "Accuracy for MNB: 0.8033333333333333\n"
     ]
    }
   ],
   "source": [
    "clf = MultinomialNB(alpha=1.0, class_prior=None, fit_prior=True)\n",
    "mnb = clf.fit(X_train, y_train)\n",
    "\n",
    "y_pred_mnb = mnb.predict(X_test)\n",
    "\n",
    "y_pred_mnb_prob = mnb.predict_proba(X_test)\n",
    "\n",
    "print('Accuracy for MNB:',accuracy_score(y_test,y_pred_mnb))"
   ]
  },
  {
   "cell_type": "code",
   "execution_count": 154,
   "metadata": {},
   "outputs": [
    {
     "name": "stdout",
     "output_type": "stream",
     "text": [
      "Confusion Matrix:\n",
      " [[252  45]\n",
      " [ 73 230]]\n",
      "Precision: [0.77538462 0.83636364]\n",
      "Recall [0.84848485 0.75907591]\n",
      "Precision [0.81028939 0.79584775]\n"
     ]
    }
   ],
   "source": [
    "print('Confusion Matrix:\\n',confusion_matrix(y_test,y_pred_mnb))\n",
    "\n",
    "p_mnb,r_mnb,f_mnb,_ = precision_recall_fscore_support(y_test,y_pred_mnb)\n",
    "print('Precision:',p_mnb)\n",
    "print('Recall',r_mnb)\n",
    "print('Precision',f_mnb)"
   ]
  },
  {
   "cell_type": "code",
   "execution_count": 155,
   "metadata": {},
   "outputs": [
    {
     "data": {
      "text/plain": [
       "Text(0.5,0,'False Positive Rate')"
      ]
     },
     "execution_count": 155,
     "metadata": {},
     "output_type": "execute_result"
    },
    {
     "data": {
      "text/plain": [
       "Text(0,0.5,'True Positive Rate')"
      ]
     },
     "execution_count": 155,
     "metadata": {},
     "output_type": "execute_result"
    },
    {
     "data": {
      "text/plain": [
       "Text(0.5,1,'ROC curve for Naive Bayes Multinomial NB')"
      ]
     },
     "execution_count": 155,
     "metadata": {},
     "output_type": "execute_result"
    },
    {
     "data": {
      "text/plain": [
       "[<matplotlib.lines.Line2D at 0x7fad5b86a940>]"
      ]
     },
     "execution_count": 155,
     "metadata": {},
     "output_type": "execute_result"
    },
    {
     "data": {
      "image/png": "[encoded data removed]",
      "text/plain": [
       "<matplotlib.figure.Figure at 0x7fad5b51df28>"
      ]
     },
     "metadata": {},
     "output_type": "display_data"
    }
   ],
   "source": [
    "\n",
    "fpr_mnb, tpr_mnb, thresholds = roc_curve(y_test,\n",
    "                                 y_pred_mnb_prob[: , 1],\n",
    "                                 pos_label= 1\n",
    "                                 )\n",
    "\n",
    "fig = plt.figure(figsize=(12,10))          # Create window frame\n",
    "ax = fig.add_subplot(111)   # Create axes\n",
    "ax.set_xlabel('False Positive Rate')  # Final plot decorations\n",
    "ax.set_ylabel('True Positive Rate')\n",
    "ax.set_title('ROC curve for Multinomial Naive Bayes')\n",
    "ax.plot(fpr_mnb, tpr_mnb, label = \"mnb\")"
   ]
  },
  {
   "cell_type": "code",
   "execution_count": null,
   "metadata": {},
   "outputs": [],
   "source": []
  }
 ],
 "metadata": {
  "kernelspec": {
   "display_name": "Python 3",
   "language": "python",
   "name": "python3"
  },
  "language_info": {
   "codemirror_mode": {
    "name": "ipython",
    "version": 3
   },
   "file_extension": ".py",
   "mimetype": "text/x-python",
   "name": "python",
   "nbconvert_exporter": "python",
   "pygments_lexer": "ipython3",
   "version": "3.5.4"
  }
 },
 "nbformat": 4,
 "nbformat_minor": 2
}
